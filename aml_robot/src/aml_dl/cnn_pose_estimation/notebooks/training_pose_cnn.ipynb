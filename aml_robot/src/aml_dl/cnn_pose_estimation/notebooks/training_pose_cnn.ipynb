{
 "cells": [
  {
   "cell_type": "code",
   "execution_count": 1,
   "metadata": {
    "collapsed": false
   },
   "outputs": [],
   "source": [
    "%matplotlib inline \n",
    "%load_ext autoreload\n",
    "%autoreload 2"
   ]
  },
  {
   "cell_type": "code",
   "execution_count": 2,
   "metadata": {
    "collapsed": false
   },
   "outputs": [
    {
     "name": "stdout",
     "output_type": "stream",
     "text": [
      "STATE IDX: 31\n",
      "IMAGE IDX: 150559\n",
      "SHAPE INPUT: (?, 150560)\n",
      "SHAPE STATE: (?, 32)\n",
      "SHAPE IMAGE: (?, 150528)\n",
      "SHAPE: (?, 224, 224, 3)\n"
     ]
    }
   ],
   "source": [
    "import os, sys\n",
    "\n",
    "aml_dl_path = os.path.abspath(os.path.join(os.path.dirname(os.getcwd()), '..', ''))\n",
    "sys.path.append(aml_dl_path)\n",
    "\n",
    "import cnn_pose_estimation.model.tf_model as tf_model\n",
    "from cnn_pose_estimation.training.config import network_params\n",
    "\n",
    "import numpy as np\n",
    "import tensorflow as tf\n",
    "\n",
    "# Fixing seed\n",
    "np.random.seed(seed=42)\n",
    "\n",
    "def fakeImageInput(network_params):\n",
    "    random_image = np.random.randn(network_params['image_height'],network_params['image_width'],network_params['image_channels'])\n",
    "    image = np.transpose(random_image,(2,1,0)) # If the image is WxHxC, make it CxWxH\n",
    "    image = image.flatten()\n",
    "\n",
    "    return image, random_image\n",
    "\n",
    "nn = tf_model.multi_modal_network_fp(dim_input=network_params['image_size']+32,\n",
    "                                      network_config=network_params)\n",
    "\n",
    "# Add ops to save and restore all the variables.\n",
    "saver = tf.train.Saver()\n",
    "\n",
    "fc_op = nn['fc_pose_out']\n",
    "features_op = nn['features']\n",
    "loss_op = nn['loss_pose']\n",
    "input_tensor = nn['nn_input']\n",
    "position = nn['pose']\n",
    "train_op = tf_model.train_adam_step(loss_op)\n",
    "\n",
    "init_fn = nn['init_fn']\n",
    "\n"
   ]
  },
  {
   "cell_type": "code",
   "execution_count": 3,
   "metadata": {
    "collapsed": false
   },
   "outputs": [
    {
     "name": "stdout",
     "output_type": "stream",
     "text": [
      "iteration 0 loss:  [0.060000017, None]\n",
      "iteration 100 loss:  [0.058676071, None]\n",
      "iteration 200 loss:  [0.056601781, None]\n",
      "iteration 300 loss:  [0.05064946, None]\n",
      "iteration 400 loss:  [0.038728632, None]\n",
      "iteration 500 loss:  [0.024177203, None]\n",
      "iteration 600 loss:  [0.011285049, None]\n",
      "iteration 700 loss:  [0.0034767813, None]\n",
      "iteration 800 loss:  [0.00067143812, None]\n",
      "iteration 900 loss:  [8.7477878e-05, None]\n",
      "Model saved in file: model.ckpt\n"
     ]
    }
   ],
   "source": [
    "# Initialialise session and variables\n",
    "\n",
    "init_op = tf.initialize_all_variables()\n",
    "\n",
    "sess = tf.Session()\n",
    "sess.run(init_op)\n",
    "init_fn(sess)\n",
    "\n",
    "# Run a simple test with a fake image\n",
    "image, random_image = fakeImageInput(network_params)\n",
    "\n",
    "### Training ###\n",
    "\n",
    "p0 = np.array([0,0,0])\n",
    "p1 = np.array([0,1,0])\n",
    "p2 = np.array([0,1,1])\n",
    "points = np.concatenate((p0,p1,p2))\n",
    "\n",
    "for iteration in range(1000):\n",
    "    with tf.device(\"/gpu:0\"):\n",
    "        loss = sess.run([loss_op,train_op],feed_dict={input_tensor: np.expand_dims(np.r_[np.zeros(32),image],axis=0),\n",
    "                                     position: np.expand_dims(points,axis=0)\n",
    "                                    })\n",
    "\n",
    "        # print every 50 iters\n",
    "        if iteration%100 == 0:\n",
    "            print \"iteration %d loss: \"%(iteration), loss\n",
    "\n",
    "\n",
    "######## SAVING MODEL #######\n",
    "save_path = saver.save(sess, \"model.ckpt\")\n",
    "print(\"Model saved in file: %s\" % save_path)\n",
    "    \n",
    "\n",
    "sess.close()"
   ]
  },
  {
   "cell_type": "code",
   "execution_count": null,
   "metadata": {
    "collapsed": true
   },
   "outputs": [],
   "source": []
  }
 ],
 "metadata": {
  "kernelspec": {
   "display_name": "Python 2",
   "language": "python",
   "name": "python2"
  },
  "language_info": {
   "codemirror_mode": {
    "name": "ipython",
    "version": 2
   },
   "file_extension": ".py",
   "mimetype": "text/x-python",
   "name": "python",
   "nbconvert_exporter": "python",
   "pygments_lexer": "ipython2",
   "version": "2.7.6"
  }
 },
 "nbformat": 4,
 "nbformat_minor": 1
}
