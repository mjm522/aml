{
 "cells": [
  {
   "cell_type": "code",
   "execution_count": 1,
   "metadata": {
    "collapsed": true
   },
   "outputs": [],
   "source": [
    "%load_ext autoreload"
   ]
  },
  {
   "cell_type": "code",
   "execution_count": 2,
   "metadata": {
    "collapsed": false
   },
   "outputs": [],
   "source": [
    "%autoreload 2"
   ]
  },
  {
   "cell_type": "code",
   "execution_count": 3,
   "metadata": {
    "collapsed": false
   },
   "outputs": [
    {
     "name": "stderr",
     "output_type": "stream",
     "text": [
      "/home/ermanoarruda/.virtualenvs/robotics/local/lib/python2.7/site-packages/matplotlib/font_manager.py:273: UserWarning: Matplotlib is building the font cache using fc-list. This may take a moment.\n",
      "  warnings.warn('Matplotlib is building the font cache using fc-list. This may take a moment.')\n"
     ]
    }
   ],
   "source": [
    "%matplotlib inline"
   ]
  },
  {
   "cell_type": "code",
   "execution_count": 4,
   "metadata": {
    "collapsed": false,
    "scrolled": false
   },
   "outputs": [
    {
     "name": "stderr",
     "output_type": "stream",
     "text": [
      "/home/ermanoarruda/.virtualenvs/robotics/local/lib/python2.7/site-packages/quaternion/numba_wrapper.py:29: UserWarning: \n",
      "\n",
      "!!!!!!!!!!!!!!!!!!!!!!!!!!!!!!!!!!!!!!!!!!!!!!!!!!!!!\n",
      "Could not import from either numbapro or numba.\n",
      "This means that the code will run MUCH more slowly.\n",
      "You probably REALLY want to install numba / numbapro.\n",
      "!!!!!!!!!!!!!!!!!!!!!!!!!!!!!!!!!!!!!!!!!!!!!!!!!!!!!\n",
      "\n",
      "  warnings.warn(warning_text)\n"
     ]
    }
   ],
   "source": [
    "import numpy as np\n",
    "import pybullet as pb\n",
    "import cv2\n",
    "import rospy\n",
    "import time\n",
    "# from aml_playground.peg_in_hole.pih_worlds.bullet.pih_world import PIHWorld\n",
    "from aml_robot.bullet.bullet_sawyer import BulletSawyerArm\n",
    "from aml_io.io_tools import get_file_path, get_aml_package_path\n",
    "from matplotlib import pyplot as plt\n",
    "from aml_grasp.manipulable_object import ManipulableObject\n",
    "from aml_io.log_utils import aml_logging"
   ]
  },
  {
   "cell_type": "code",
   "execution_count": 5,
   "metadata": {
    "collapsed": false
   },
   "outputs": [],
   "source": [
    "models_path = get_aml_package_path('aml_grasp/src/aml_grasp/models')"
   ]
  },
  {
   "cell_type": "code",
   "execution_count": 6,
   "metadata": {
    "collapsed": false
   },
   "outputs": [
    {
     "name": "stdout",
     "output_type": "stream",
     "text": [
      "/home/ermanoarruda/Projects/catkin_workspaces/baxter_ws/src/aml/aml_grasp/src/aml_grasp/models/plane.urdf\n"
     ]
    }
   ],
   "source": [
    "plane_path = get_file_path('plane.urdf', models_path)\n",
    "print plane_path"
   ]
  },
  {
   "cell_type": "code",
   "execution_count": 7,
   "metadata": {
    "collapsed": false
   },
   "outputs": [
    {
     "name": "stdout",
     "output_type": "stream",
     "text": [
      "/home/ermanoarruda/Projects/catkin_workspaces/baxter_ws/src/aml/aml_grasp/src/aml_grasp/models/mug.urdf\n"
     ]
    }
   ],
   "source": [
    "mug_path = get_file_path('mug.urdf', models_path)\n",
    "print mug_path"
   ]
  },
  {
   "cell_type": "code",
   "execution_count": 8,
   "metadata": {
    "collapsed": false
   },
   "outputs": [
    {
     "name": "stdout",
     "output_type": "stream",
     "text": [
      "/home/ermanoarruda/Projects/catkin_workspaces/baxter_ws/src/aml/aml_grasp/src/aml_grasp/models/sawyer/sawyer2_with_pisa_hand.urdf\n"
     ]
    }
   ],
   "source": [
    "sawyer_path = get_file_path('sawyer2_with_pisa_hand.urdf', models_path)\n",
    "print sawyer_path"
   ]
  },
  {
   "cell_type": "code",
   "execution_count": 9,
   "metadata": {
    "collapsed": false
   },
   "outputs": [
    {
     "name": "stdout",
     "output_type": "stream",
     "text": [
      "/home/ermanoarruda/Projects/catkin_workspaces/baxter_ws/src/aml/aml_grasp/src/aml_grasp/models/table.urdf\n"
     ]
    }
   ],
   "source": [
    "table_path = get_file_path('table.urdf', models_path)\n",
    "print table_path"
   ]
  },
  {
   "cell_type": "code",
   "execution_count": 10,
   "metadata": {
    "collapsed": false
   },
   "outputs": [],
   "source": [
    "phys_id = pb.connect(pb.SHARED_MEMORY)\n",
    "\n",
    "if (phys_id<0):\n",
    "    \n",
    "    phys_id = pb.connect(pb.GUI)\n",
    "    \n",
    "pb.resetSimulation()\n",
    "    \n",
    "pb.setTimeStep(0.01)\n",
    "    \n"
   ]
  },
  {
   "cell_type": "code",
   "execution_count": 11,
   "metadata": {
    "collapsed": true
   },
   "outputs": [],
   "source": [
    "plane = pb.loadURDF(plane_path,[0,0,-.98])"
   ]
  },
  {
   "cell_type": "code",
   "execution_count": 12,
   "metadata": {
    "collapsed": false,
    "scrolled": false
   },
   "outputs": [
    {
     "name": "stderr",
     "output_type": "stream",
     "text": [
      "INFO: Object id: 1\n",
      "INFO: Object num joints: 0\n"
     ]
    },
    {
     "name": "stdout",
     "output_type": "stream",
     "text": [
      "0 0\n",
      "0 0\n"
     ]
    }
   ],
   "source": [
    "mug_object = ManipulableObject(urdf_path = mug_path, scale = 0.001)"
   ]
  },
  {
   "cell_type": "code",
   "execution_count": 13,
   "metadata": {
    "collapsed": false
   },
   "outputs": [],
   "source": [
    "manipulator = pb.loadURDF(sawyer_path, useFixedBase=True)"
   ]
  },
  {
   "cell_type": "code",
   "execution_count": 14,
   "metadata": {
    "collapsed": false,
    "scrolled": true
   },
   "outputs": [],
   "source": [
    "arm = BulletSawyerArm(manipulator)"
   ]
  },
  {
   "cell_type": "code",
   "execution_count": 15,
   "metadata": {
    "collapsed": false,
    "scrolled": true
   },
   "outputs": [],
   "source": [
    "table = pb.loadURDF(table_path, useFixedBase=True)"
   ]
  },
  {
   "cell_type": "code",
   "execution_count": 16,
   "metadata": {
    "collapsed": false
   },
   "outputs": [],
   "source": [
    "arm._update_state()\n",
    "state = arm.get_state()"
   ]
  },
  {
   "cell_type": "code",
   "execution_count": 17,
   "metadata": {
    "collapsed": false
   },
   "outputs": [
    {
     "name": "stdout",
     "output_type": "stream",
     "text": [
      "41\n"
     ]
    }
   ],
   "source": [
    "print len(state['position'])"
   ]
  },
  {
   "cell_type": "code",
   "execution_count": 22,
   "metadata": {
    "collapsed": false
   },
   "outputs": [
    {
     "name": "stdout",
     "output_type": "stream",
     "text": [
      "torso_t0\n",
      "pedestal_fixed\n",
      "right_arm_mount\n",
      "right_j0\n",
      "head_pan\n",
      "display_joint\n",
      "head_camera\n",
      "right_torso_itb\n",
      "right_j1\n",
      "right_j2\n",
      "right_j3\n",
      "right_j4\n",
      "right_arm_itb\n",
      "right_j5\n",
      "right_hand_camera\n",
      "right_wrist\n",
      "right_j6\n",
      "right_hand\n",
      "right_hand_soft_hand_kuka_coupler_joint\n",
      "right_hand_soft_hand_kuka_coupler_base_joint\n",
      "soft_hand_kuka_coupler_soft_hand_clamp_joint\n",
      "soft_hand_clamp_soft_hand_softhand_base_joint\n",
      "soft_hand_palm_joint\n",
      "soft_hand_synergy_joint\n",
      "soft_hand_thumb_abd_joint\n",
      "soft_hand_thumb_inner_joint\n",
      "soft_hand_thumb_inner_joint_mimic\n",
      "soft_hand_thumb_outer_joint\n",
      "soft_hand_thumb_outer_joint_mimic\n",
      "soft_hand_index_abd_joint\n",
      "soft_hand_index_inner_joint\n",
      "soft_hand_index_inner_joint_mimic\n",
      "soft_hand_index_middle_joint\n",
      "soft_hand_index_middle_joint_mimic\n",
      "soft_hand_index_outer_joint\n",
      "soft_hand_index_outer_joint_mimic\n",
      "soft_hand_middle_abd_joint\n",
      "soft_hand_middle_inner_joint\n",
      "soft_hand_middle_inner_joint_mimic\n",
      "soft_hand_middle_middle_joint\n",
      "soft_hand_middle_middle_joint_mimic\n",
      "soft_hand_middle_outer_joint\n",
      "soft_hand_middle_outer_joint_mimic\n",
      "soft_hand_ring_abd_joint\n",
      "soft_hand_ring_inner_joint\n",
      "soft_hand_ring_inner_joint_mimic\n",
      "soft_hand_ring_middle_joint\n",
      "soft_hand_ring_middle_joint_mimic\n",
      "soft_hand_ring_outer_joint\n",
      "soft_hand_ring_outer_joint_mimic\n",
      "soft_hand_little_abd_joint\n",
      "soft_hand_little_inner_joint\n",
      "soft_hand_little_inner_joint_mimic\n",
      "soft_hand_little_middle_joint\n",
      "soft_hand_little_middle_joint_mimic\n",
      "soft_hand_little_outer_joint\n",
      "soft_hand_little_outer_joint_mimic\n"
     ]
    }
   ],
   "source": [
    "for idx in range(pb.getNumJoints(arm._id)):\n",
    "    info = pb.getJointInfo(arm._id,idx)\n",
    "    print info[1]"
   ]
  },
  {
   "cell_type": "code",
   "execution_count": null,
   "metadata": {
    "collapsed": true
   },
   "outputs": [],
   "source": []
  }
 ],
 "metadata": {
  "kernelspec": {
   "display_name": "Python 2",
   "language": "python",
   "name": "python2"
  },
  "language_info": {
   "codemirror_mode": {
    "name": "ipython",
    "version": 2
   },
   "file_extension": ".py",
   "mimetype": "text/x-python",
   "name": "python",
   "nbconvert_exporter": "python",
   "pygments_lexer": "ipython2",
   "version": "2.7.6"
  }
 },
 "nbformat": 4,
 "nbformat_minor": 1
}
