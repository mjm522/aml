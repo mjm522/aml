{
 "cells": [
  {
   "cell_type": "code",
   "execution_count": 1,
   "metadata": {
    "collapsed": false,
    "scrolled": false
   },
   "outputs": [],
   "source": [
    "%load_ext autoreload"
   ]
  },
  {
   "cell_type": "code",
   "execution_count": 2,
   "metadata": {
    "collapsed": true
   },
   "outputs": [],
   "source": [
    "%autoreload 2"
   ]
  },
  {
   "cell_type": "code",
   "execution_count": 3,
   "metadata": {
    "collapsed": true
   },
   "outputs": [],
   "source": [
    "import tensorflow as tf"
   ]
  },
  {
   "cell_type": "code",
   "execution_count": 4,
   "metadata": {
    "collapsed": true
   },
   "outputs": [],
   "source": [
    "%matplotlib inline\n",
    "import matplotlib.pyplot as plt\n",
    "import numpy as np\n",
    "import tensorflow as tf\n",
    "import math"
   ]
  },
  {
   "cell_type": "markdown",
   "metadata": {},
   "source": [
    "## Parameters"
   ]
  },
  {
   "cell_type": "code",
   "execution_count": 5,
   "metadata": {
    "collapsed": true
   },
   "outputs": [],
   "source": [
    "NSAMPLE = 2500"
   ]
  },
  {
   "cell_type": "code",
   "execution_count": 6,
   "metadata": {
    "collapsed": false
   },
   "outputs": [],
   "source": [
    "from aml_dl.mdn.training.config import network_params_inv"
   ]
  },
  {
   "cell_type": "code",
   "execution_count": 7,
   "metadata": {
    "collapsed": false
   },
   "outputs": [],
   "source": [
    "from aml_dl.mdn.model.mdn_push_inv_model import MDNPushInverseModel"
   ]
  },
  {
   "cell_type": "code",
   "execution_count": 8,
   "metadata": {
    "collapsed": false
   },
   "outputs": [
    {
     "name": "stdout",
     "output_type": "stream",
     "text": [
      "/home/mjm/gitlibs/aml_data/aml_dl/baxter_push_data/\n"
     ]
    }
   ],
   "source": [
    "from aml_data_collec_utils.core.data_manager import DataManager"
   ]
  },
  {
   "cell_type": "code",
   "execution_count": 9,
   "metadata": {
    "collapsed": false
   },
   "outputs": [],
   "source": [
    "sess = tf.InteractiveSession()"
   ]
  },
  {
   "cell_type": "code",
   "execution_count": 10,
   "metadata": {
    "collapsed": false
   },
   "outputs": [],
   "source": [
    "inverse_model = MDNPushInverseModel(sess=sess, network_params=network_params_inv)\n",
    "inverse_model.init_model()"
   ]
  },
  {
   "cell_type": "code",
   "execution_count": 11,
   "metadata": {
    "collapsed": false
   },
   "outputs": [],
   "source": [
    "x_curr   = np.random.randn(1,7).tolist()[0]\n",
    "x_tgt    = np.random.randn(1,7).tolist()[0]\n",
    "u_action = np.random.random((1,2))"
   ]
  },
  {
   "cell_type": "code",
   "execution_count": 12,
   "metadata": {
    "collapsed": false,
    "scrolled": false
   },
   "outputs": [
    {
     "name": "stdout",
     "output_type": "stream",
     "text": [
      "MUS:  [[ 0.00688897 -0.02573361  0.12317345  0.12438294  0.00382894]\n",
      " [ 0.30230099  0.20251933  0.27086458  0.05781738 -0.33486333]]\n",
      "SIGMA:  [ 1.37799644  1.30880666  1.16822231  1.32044673  1.06421614]\n",
      "PIs: [ 0.16776749  0.20425679  0.24374095  0.19653347  0.1877013 ]\n",
      "LOSS: [[ 2.16483474]]\n"
     ]
    }
   ],
   "source": [
    "input_x = np.expand_dims(np.r_[x_curr, x_tgt], 0)\n",
    "mus = inverse_model.run_op('mu', input_x)[0]\n",
    "sigma = inverse_model.run_op('sigma', input_x)[0]\n",
    "pis = inverse_model.run_op('pi', input_x)[0]\n",
    "loss = inverse_model._mdn.run_op(sess,'loss', xs = input_x, ys = u_action)[0]\n",
    "\n",
    "print \"MUS: \", mus\n",
    "print \"SIGMA: \", sigma\n",
    "print \"PIs:\", pis\n",
    "print \"LOSS:\", loss\n",
    "#theta = inverse_model.sample_out_max_pi(input_x, 1)[0]\n",
    "    \n",
    "pi_idx = inverse_model._max_pi_idx(pis)\n",
    "\n",
    "action = mus[:,pi_idx]\n"
   ]
  },
  {
   "cell_type": "code",
   "execution_count": 13,
   "metadata": {
    "collapsed": false
   },
   "outputs": [],
   "source": [
    "network_params_inv['dim_input'] = 14\n",
    "network_params_inv['dim_output'] = 2\n",
    "network_params_inv['k_mixtures'] = 24\n",
    "\n",
    "inverse_model = MDNPushInverseModel(sess=sess, network_params=network_params_inv)\n",
    "inverse_model.init_model()"
   ]
  },
  {
   "cell_type": "code",
   "execution_count": 14,
   "metadata": {
    "collapsed": true
   },
   "outputs": [],
   "source": [
    "data_file_indices = network_params_inv['train_file_indices']\n",
    "\n",
    "data_man = DataManager(data_folder_path=network_params_inv['training_data_path'], data_name_prefix='test_push_data')"
   ]
  },
  {
   "cell_type": "code",
   "execution_count": 15,
   "metadata": {
    "collapsed": false,
    "scrolled": true
   },
   "outputs": [
    {
     "name": "stdout",
     "output_type": "stream",
     "text": [
      "[0.48422095567747897, 0.5086423553144893, -0.49989509662481596, -0.5068707062292948, 0.7772083686903487, 0.00968411455251833, -0.10059531962601909, 0.574241039738017, 0.5904788994700245, -0.3995292523324805, -0.40244039818576793, 0.7534997174850996, 0.0754617492055675, -0.09852676853956521]\n",
      "Data y\n",
      "[ 0.          0.00341609]\n"
     ]
    }
   ],
   "source": [
    "ids=range(0,5)\n",
    "y_keys = ['task_action']\n",
    "x_keys = ['box_pos', 'box_ori']\n",
    "x_sub_keys = [[None],[None]]\n",
    "y_sub_keys = [['push_xz']]\n",
    "\n",
    "data_x1 = data_man.pack_data_in_range(keys=x_keys, sub_keys=x_sub_keys, ids=ids, sample_points=[0], data_file_range=data_file_indices)\n",
    "data_x2 = data_man.pack_data_in_range(keys=x_keys, sub_keys=x_sub_keys, ids=ids, sample_points=[-1], data_file_range=data_file_indices)\n",
    "data_y  = data_man.pack_data_in_range(keys=y_keys, sub_keys=y_sub_keys, ids=ids,  sample_points=[0], data_file_range=data_file_indices)\n",
    "\n",
    "data_x  = np.hstack([np.asarray(data_x1),np.asarray(data_x2)]).tolist()\n",
    "\n",
    "print data_x[0]\n",
    "print \"Data y\"\n",
    "print data_y[0]"
   ]
  },
  {
   "cell_type": "code",
   "execution_count": 16,
   "metadata": {
    "collapsed": false
   },
   "outputs": [
    {
     "data": {
      "text/plain": [
       "[array([ 0.        ,  0.00341609]),\n",
       " array([ 0.        , -0.01872924]),\n",
       " array([-0.00201198,  0.        ]),\n",
       " array([-0.02138302,  0.        ]),\n",
       " array([ 0.        ,  0.00075762]),\n",
       " array([ 0.        , -0.00488879]),\n",
       " array([ 0.00159567,  0.        ]),\n",
       " array([-0.03031349,  0.        ]),\n",
       " array([ 0.        , -0.00294905]),\n",
       " array([ 0.        ,  0.02536172]),\n",
       " array([ 0.01488195,  0.        ]),\n",
       " array([ 0.        ,  0.00709806]),\n",
       " array([ 0.        , -0.02106802]),\n",
       " array([-0.02504312,  0.        ]),\n",
       " array([ 0.02784846,  0.        ]),\n",
       " array([ 0.        , -0.01843579]),\n",
       " array([ 0.01454813,  0.        ]),\n",
       " array([ 0.01573059,  0.        ]),\n",
       " array([ 0.        ,  0.00311425]),\n",
       " array([ 0.        ,  0.02672056]),\n",
       " array([-0.01763859,  0.        ]),\n",
       " array([ 0.        ,  0.01337891]),\n",
       " array([ 0.       ,  0.0265686]),\n",
       " array([ 0.0114942,  0.       ]),\n",
       " array([ 0.0020253,  0.       ]),\n",
       " array([ 0.       , -0.0109853]),\n",
       " array([ 0.0155405,  0.       ]),\n",
       " array([-0.01083585,  0.        ]),\n",
       " array([ 0.        ,  0.00758505]),\n",
       " array([ 0.        ,  0.01483844]),\n",
       " array([-0.0203834,  0.       ]),\n",
       " array([ 0.        , -0.00713313]),\n",
       " array([ 0.       , -0.0034353]),\n",
       " array([ 0.02643849,  0.        ]),\n",
       " array([-0.0174759,  0.       ]),\n",
       " array([ 0.       ,  0.0222799]),\n",
       " array([ 0.        , -0.00482581]),\n",
       " array([-0.00466732,  0.        ]),\n",
       " array([-0.01915508,  0.        ]),\n",
       " array([ 0.        , -0.00799422]),\n",
       " array([ 0.02204781,  0.        ]),\n",
       " array([ 0.01669105,  0.        ]),\n",
       " array([ 0.        , -0.00462561]),\n",
       " array([ 0.        , -0.01355485]),\n",
       " array([-0.01552694,  0.        ])]"
      ]
     },
     "execution_count": 16,
     "metadata": {},
     "output_type": "execute_result"
    }
   ],
   "source": [
    "data_y"
   ]
  },
  {
   "cell_type": "code",
   "execution_count": 17,
   "metadata": {
    "collapsed": false
   },
   "outputs": [],
   "source": [
    "xs = data_x#np.random.uniform(-10.5, 10.5, (14, NSAMPLE)).T\n",
    "ys = data_y#np.random.uniform(-10.5, 10.5, (2, NSAMPLE)).T"
   ]
  },
  {
   "cell_type": "code",
   "execution_count": null,
   "metadata": {
    "collapsed": false,
    "scrolled": false
   },
   "outputs": [],
   "source": []
  },
  {
   "cell_type": "code",
   "execution_count": 18,
   "metadata": {
    "collapsed": false,
    "scrolled": true
   },
   "outputs": [],
   "source": [
    "sess.run(tf.global_variables_initializer())\n",
    "\n",
    "NEPOCH = 10000\n",
    "loss = inverse_model.train(x_data = xs, y_data = ys, epochs =  NEPOCH)"
   ]
  },
  {
   "cell_type": "code",
   "execution_count": 19,
   "metadata": {
    "collapsed": false
   },
   "outputs": [
    {
     "name": "stdout",
     "output_type": "stream",
     "text": [
      "[ 1.85004139  1.8466624   1.84328389 ..., -2.46455073 -2.44638944\n",
      " -2.45034075]\n"
     ]
    }
   ],
   "source": [
    "print loss"
   ]
  },
  {
   "cell_type": "code",
   "execution_count": 20,
   "metadata": {
    "collapsed": false,
    "scrolled": true
   },
   "outputs": [
    {
     "data": {
      "image/png": "[encoded data removed]",
      "text/plain": [
       "<matplotlib.figure.Figure at 0x7f0b746d1810>"
      ]
     },
     "metadata": {},
     "output_type": "display_data"
    }
   ],
   "source": [
    "plt.figure(figsize=(8, 8))\n",
    "plt.plot(np.arange(100, NEPOCH,1), loss[100:], 'r-')\n",
    "plt.show()"
   ]
  },
  {
   "cell_type": "code",
   "execution_count": 21,
   "metadata": {
    "collapsed": false
   },
   "outputs": [],
   "source": [
    "from aml_dl.mdn.model.tf_mdn_model import MixtureOfGaussians"
   ]
  },
  {
   "cell_type": "code",
   "execution_count": 22,
   "metadata": {
    "collapsed": false
   },
   "outputs": [],
   "source": [
    "out_pi = inverse_model._net_ops['pi']\n",
    "out_sigma = inverse_model._net_ops['sigma']\n",
    "out_mu = inverse_model._net_ops['mu']\n",
    "x = inverse_model._net_ops['x']"
   ]
  },
  {
   "cell_type": "code",
   "execution_count": null,
   "metadata": {
    "collapsed": false
   },
   "outputs": [],
   "source": []
  },
  {
   "cell_type": "code",
   "execution_count": 24,
   "metadata": {
    "collapsed": false
   },
   "outputs": [],
   "source": [
    "mixture = MixtureOfGaussians()"
   ]
  },
  {
   "cell_type": "code",
   "execution_count": 25,
   "metadata": {
    "collapsed": true
   },
   "outputs": [],
   "source": [
    "x_test = np.float32(np.arange(-15,15,0.1))\n",
    "NTEST = x_test.size\n",
    "x_test = x_test.reshape(NTEST,1) # needs to be a matrix, not a vector\n"
   ]
  },
  {
   "cell_type": "code",
   "execution_count": 26,
   "metadata": {
    "collapsed": false
   },
   "outputs": [
    {
     "ename": "ValueError",
     "evalue": "Cannot feed value of shape (300, 1) for Tensor u'x_1:0', which has shape '(?, 14)'",
     "output_type": "error",
     "traceback": [
      "\u001b[0;31m---------------------------------------------------------------------------\u001b[0m",
      "\u001b[0;31mValueError\u001b[0m                                Traceback (most recent call last)",
      "\u001b[0;32m<ipython-input-26-bf542b965803>\u001b[0m in \u001b[0;36m<module>\u001b[0;34m()\u001b[0m\n\u001b[0;32m----> 1\u001b[0;31m \u001b[0mout_pi_test\u001b[0m\u001b[0;34m,\u001b[0m \u001b[0mout_sigma_test\u001b[0m\u001b[0;34m,\u001b[0m \u001b[0mout_mu_test\u001b[0m \u001b[0;34m=\u001b[0m \u001b[0msess\u001b[0m\u001b[0;34m.\u001b[0m\u001b[0mrun\u001b[0m\u001b[0;34m(\u001b[0m\u001b[0;34m[\u001b[0m\u001b[0mout_pi\u001b[0m\u001b[0;34m,\u001b[0m \u001b[0mout_sigma\u001b[0m\u001b[0;34m,\u001b[0m \u001b[0mout_mu\u001b[0m\u001b[0;34m]\u001b[0m\u001b[0;34m,\u001b[0m \u001b[0mfeed_dict\u001b[0m\u001b[0;34m=\u001b[0m\u001b[0;34m{\u001b[0m\u001b[0mx\u001b[0m\u001b[0;34m:\u001b[0m \u001b[0mx_test\u001b[0m\u001b[0;34m}\u001b[0m\u001b[0;34m)\u001b[0m\u001b[0;34m\u001b[0m\u001b[0m\n\u001b[0m",
      "\u001b[0;32m/usr/local/lib/python2.7/dist-packages/tensorflow/python/client/session.pyc\u001b[0m in \u001b[0;36mrun\u001b[0;34m(self, fetches, feed_dict, options, run_metadata)\u001b[0m\n\u001b[1;32m    764\u001b[0m     \u001b[0;32mtry\u001b[0m\u001b[0;34m:\u001b[0m\u001b[0;34m\u001b[0m\u001b[0m\n\u001b[1;32m    765\u001b[0m       result = self._run(None, fetches, feed_dict, options_ptr,\n\u001b[0;32m--> 766\u001b[0;31m                          run_metadata_ptr)\n\u001b[0m\u001b[1;32m    767\u001b[0m       \u001b[0;32mif\u001b[0m \u001b[0mrun_metadata\u001b[0m\u001b[0;34m:\u001b[0m\u001b[0;34m\u001b[0m\u001b[0m\n\u001b[1;32m    768\u001b[0m         \u001b[0mproto_data\u001b[0m \u001b[0;34m=\u001b[0m \u001b[0mtf_session\u001b[0m\u001b[0;34m.\u001b[0m\u001b[0mTF_GetBuffer\u001b[0m\u001b[0;34m(\u001b[0m\u001b[0mrun_metadata_ptr\u001b[0m\u001b[0;34m)\u001b[0m\u001b[0;34m\u001b[0m\u001b[0m\n",
      "\u001b[0;32m/usr/local/lib/python2.7/dist-packages/tensorflow/python/client/session.pyc\u001b[0m in \u001b[0;36m_run\u001b[0;34m(self, handle, fetches, feed_dict, options, run_metadata)\u001b[0m\n\u001b[1;32m    941\u001b[0m                 \u001b[0;34m'Cannot feed value of shape %r for Tensor %r, '\u001b[0m\u001b[0;34m\u001b[0m\u001b[0m\n\u001b[1;32m    942\u001b[0m                 \u001b[0;34m'which has shape %r'\u001b[0m\u001b[0;34m\u001b[0m\u001b[0m\n\u001b[0;32m--> 943\u001b[0;31m                 % (np_val.shape, subfeed_t.name, str(subfeed_t.get_shape())))\n\u001b[0m\u001b[1;32m    944\u001b[0m           \u001b[0;32mif\u001b[0m \u001b[0;32mnot\u001b[0m \u001b[0mself\u001b[0m\u001b[0;34m.\u001b[0m\u001b[0mgraph\u001b[0m\u001b[0;34m.\u001b[0m\u001b[0mis_feedable\u001b[0m\u001b[0;34m(\u001b[0m\u001b[0msubfeed_t\u001b[0m\u001b[0;34m)\u001b[0m\u001b[0;34m:\u001b[0m\u001b[0;34m\u001b[0m\u001b[0m\n\u001b[1;32m    945\u001b[0m             \u001b[0;32mraise\u001b[0m \u001b[0mValueError\u001b[0m\u001b[0;34m(\u001b[0m\u001b[0;34m'Tensor %s may not be fed.'\u001b[0m \u001b[0;34m%\u001b[0m \u001b[0msubfeed_t\u001b[0m\u001b[0;34m)\u001b[0m\u001b[0;34m\u001b[0m\u001b[0m\n",
      "\u001b[0;31mValueError\u001b[0m: Cannot feed value of shape (300, 1) for Tensor u'x_1:0', which has shape '(?, 14)'"
     ]
    }
   ],
   "source": [
    "out_pi_test, out_sigma_test, out_mu_test = sess.run([out_pi, out_sigma, out_mu], feed_dict={x: x_test})"
   ]
  },
  {
   "cell_type": "code",
   "execution_count": null,
   "metadata": {
    "collapsed": false
   },
   "outputs": [],
   "source": [
    "out_mu_test = out_mu_test.reshape((300,24))\n",
    "print out_pi_test.shape, x_test.shape, out_sigma_test.shape, out_mu_test.shape\n"
   ]
  },
  {
   "cell_type": "code",
   "execution_count": null,
   "metadata": {
    "collapsed": false,
    "scrolled": true
   },
   "outputs": [],
   "source": [
    "# print out_mu_test.reshape((300,2))"
   ]
  },
  {
   "cell_type": "code",
   "execution_count": null,
   "metadata": {
    "collapsed": false,
    "scrolled": true
   },
   "outputs": [],
   "source": [
    "\n",
    "\n",
    "y_test = mixture.generate_mixture_samples(out_pi_test, out_mu_test, out_sigma_test,100)\n",
    "\n",
    "plt.figure(figsize=(8, 8))\n",
    "plt.plot(x_data,y_data,'ro', x_test,y_test,'bo',alpha=0.3)\n",
    "plt.show()"
   ]
  },
  {
   "cell_type": "code",
   "execution_count": null,
   "metadata": {
    "collapsed": true
   },
   "outputs": [],
   "source": []
  },
  {
   "cell_type": "code",
   "execution_count": null,
   "metadata": {
    "collapsed": true
   },
   "outputs": [],
   "source": []
  }
 ],
 "metadata": {
  "kernelspec": {
   "display_name": "Python 2",
   "language": "python",
   "name": "python2"
  },
  "language_info": {
   "codemirror_mode": {
    "name": "ipython",
    "version": 2
   },
   "file_extension": ".py",
   "mimetype": "text/x-python",
   "name": "python",
   "nbconvert_exporter": "python",
   "pygments_lexer": "ipython2",
   "version": "2.7.6"
  }
 },
 "nbformat": 4,
 "nbformat_minor": 1
}
