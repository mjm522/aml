{
 "cells": [
  {
   "cell_type": "code",
   "execution_count": 15,
   "metadata": {
    "collapsed": false,
    "scrolled": false
   },
   "outputs": [
    {
     "name": "stdout",
     "output_type": "stream",
     "text": [
      "The autoreload extension is already loaded. To reload it, use:\n",
      "  %reload_ext autoreload\n"
     ]
    }
   ],
   "source": [
    "%load_ext autoreload"
   ]
  },
  {
   "cell_type": "code",
   "execution_count": 16,
   "metadata": {
    "collapsed": true
   },
   "outputs": [],
   "source": [
    "%autoreload 2"
   ]
  },
  {
   "cell_type": "code",
   "execution_count": 17,
   "metadata": {
    "collapsed": true
   },
   "outputs": [],
   "source": [
    "import tensorflow as tf"
   ]
  },
  {
   "cell_type": "code",
   "execution_count": 18,
   "metadata": {
    "collapsed": true
   },
   "outputs": [],
   "source": [
    "%matplotlib inline\n",
    "import matplotlib.pyplot as plt\n",
    "import numpy as np\n",
    "import tensorflow as tf\n",
    "import math"
   ]
  },
  {
   "cell_type": "markdown",
   "metadata": {},
   "source": [
    "## Parameters"
   ]
  },
  {
   "cell_type": "code",
   "execution_count": 19,
   "metadata": {
    "collapsed": true
   },
   "outputs": [],
   "source": [
    "NSAMPLE = 2500"
   ]
  },
  {
   "cell_type": "code",
   "execution_count": 20,
   "metadata": {
    "collapsed": false
   },
   "outputs": [],
   "source": [
    "from aml_dl.mdn.training.config import network_params_inv"
   ]
  },
  {
   "cell_type": "code",
   "execution_count": 21,
   "metadata": {
    "collapsed": false
   },
   "outputs": [],
   "source": [
    "from aml_dl.mdn.model.mdn_push_inv_model import MDNPushInverseModel"
   ]
  },
  {
   "cell_type": "code",
   "execution_count": 22,
   "metadata": {
    "collapsed": false
   },
   "outputs": [
    {
     "name": "stdout",
     "output_type": "stream",
     "text": [
      "/home/ermanoarruda/Projects/aml_data/aml_dl/baxter_push_data/\n"
     ]
    }
   ],
   "source": [
    "from aml_data_collec_utils.core.data_manager import DataManager"
   ]
  },
  {
   "cell_type": "code",
   "execution_count": 23,
   "metadata": {
    "collapsed": false
   },
   "outputs": [],
   "source": [
    "sess = tf.InteractiveSession()"
   ]
  },
  {
   "cell_type": "code",
   "execution_count": 24,
   "metadata": {
    "collapsed": false
   },
   "outputs": [],
   "source": [
    "inverse_model = MDNPushInverseModel(sess=sess, network_params=network_params_inv)\n",
    "inverse_model.init_model()"
   ]
  },
  {
   "cell_type": "code",
   "execution_count": 25,
   "metadata": {
    "collapsed": false
   },
   "outputs": [],
   "source": [
    "x_curr   = np.random.randn(1,7).tolist()[0]\n",
    "x_tgt    = np.random.randn(1,7).tolist()[0]\n",
    "u_action = np.random.random((1,2))"
   ]
  },
  {
   "cell_type": "code",
   "execution_count": 26,
   "metadata": {
    "collapsed": false,
    "scrolled": false
   },
   "outputs": [
    {
     "name": "stdout",
     "output_type": "stream",
     "text": [
      "MUS:  [[-0.06632147 -0.01980226  0.23443078  0.06394701  0.10637057  0.31608039\n",
      "  -0.43730515 -0.02726905 -0.11748452  0.04545816 -0.00369244  0.08010677\n",
      "   0.20552026 -0.02364001  0.22460225 -0.10713188 -0.29869932 -0.15187237\n",
      "   0.20880371 -0.36825228  0.01997926 -0.04595007 -0.03448287 -0.35756007]\n",
      " [ 0.01306449 -0.05134765  0.22593008 -0.03616702  0.15934646  0.19343002\n",
      "   0.21389174 -0.01169563 -0.02053431 -0.0410552  -0.19987559  0.1734753\n",
      "   0.15441699 -0.22108024  0.05489164  0.39590311 -0.07286464 -0.21093205\n",
      "   0.05039793  0.20887946 -0.19845808 -0.32748869 -0.29337537  0.16070622]]\n",
      "SIGMA:  [ 0.87090135  0.99707037  1.33323097  1.13822842  0.58309168  1.19196594\n",
      "  1.15463972  0.90769523  0.78909433  0.96342349  0.78496677  0.98520315\n",
      "  1.0739522   0.89752275  0.89338183  0.91518813  0.89104623  1.0544678\n",
      "  1.01789796  1.11135995  1.12982774  1.29846907  0.79848963  0.99217588]\n",
      "PIs: [ 0.04746579  0.03889333  0.05075901  0.04411351  0.03928443  0.04575402\n",
      "  0.05355414  0.03523783  0.03108509  0.0495962   0.03985176  0.04093324\n",
      "  0.0535319   0.03535188  0.03434434  0.03207449  0.05294324  0.04299096\n",
      "  0.02848492  0.0322868   0.04222779  0.04622842  0.04330752  0.0396993 ]\n",
      "LOSS: [[ 2.24937892]]\n"
     ]
    }
   ],
   "source": [
    "input_x = np.expand_dims(np.r_[x_curr, x_tgt], 0)\n",
    "mus = inverse_model.run_op('mu', input_x)[0]\n",
    "sigma = inverse_model.run_op('sigma', input_x)[0]\n",
    "pis = inverse_model.run_op('pi', input_x)[0]\n",
    "loss = inverse_model._mdn.run_op(sess,'loss', xs = input_x, ys = u_action)[0]\n",
    "\n",
    "print \"MUS: \", mus\n",
    "print \"SIGMA: \", sigma\n",
    "print \"PIs:\", pis\n",
    "print \"LOSS:\", loss\n",
    "#theta = inverse_model.sample_out_max_pi(input_x, 1)[0]\n",
    "    \n",
    "pi_idx = inverse_model._max_pi_idx(pis)\n",
    "\n",
    "action = mus[:,pi_idx]\n"
   ]
  },
  {
   "cell_type": "code",
   "execution_count": 27,
   "metadata": {
    "collapsed": false
   },
   "outputs": [],
   "source": [
    "network_params_inv['dim_input'] = 14\n",
    "network_params_inv['dim_output'] = 2\n",
    "network_params_inv['k_mixtures'] = 24\n",
    "\n",
    "inverse_model = MDNPushInverseModel(sess=sess, network_params=network_params_inv)\n",
    "inverse_model.init_model()"
   ]
  },
  {
   "cell_type": "code",
   "execution_count": 31,
   "metadata": {
    "collapsed": true
   },
   "outputs": [],
   "source": [
    "data_file_indices = network_params_inv['train_file_indices']\n",
    "\n",
    "data_man = DataManager(data_folder_path=network_params_inv['training_data_path'], data_name_prefix='test_push_data')"
   ]
  },
  {
   "cell_type": "code",
   "execution_count": 33,
   "metadata": {
    "collapsed": false,
    "scrolled": true
   },
   "outputs": [
    {
     "name": "stdout",
     "output_type": "stream",
     "text": [
      "WARNING: Data file with index 1 is missing (the read operation returned None), so skipping it\n",
      "WARNING: Data file with index 2 is missing (the read operation returned None), so skipping it\n",
      "WARNING: Data file with index 3 is missing (the read operation returned None), so skipping it\n",
      "WARNING: Data file with index 4 is missing (the read operation returned None), so skipping it\n",
      "WARNING: Data file with index 5 is missing (the read operation returned None), so skipping it\n",
      "WARNING: Data file with index 6 is missing (the read operation returned None), so skipping it\n",
      "WARNING: Data file with index 7 is missing (the read operation returned None), so skipping it\n",
      "WARNING: Data file with index 8 is missing (the read operation returned None), so skipping it\n",
      "WARNING: Data file with index 9 is missing (the read operation returned None), so skipping it\n",
      "WARNING: Data file with index 10 is missing (the read operation returned None), so skipping it\n",
      "WARNING: Data file with index 11 is missing (the read operation returned None), so skipping it\n",
      "WARNING: Data file with index 12 is missing (the read operation returned None), so skipping it\n",
      "WARNING: Data file with index 13 is missing (the read operation returned None), so skipping it\n",
      "WARNING: Data file with index 14 is missing (the read operation returned None), so skipping it\n",
      "WARNING: Data file with index 15 is missing (the read operation returned None), so skipping it\n",
      "WARNING: Data file with index 16 is missing (the read operation returned None), so skipping it\n",
      "WARNING: Data file with index 17 is missing (the read operation returned None), so skipping it\n",
      "WARNING: Data file with index 18 is missing (the read operation returned None), so skipping it\n",
      "WARNING: Data file with index 19 is missing (the read operation returned None), so skipping it\n"
     ]
    }
   ],
   "source": [
    "ids=range(0,5)\n",
    "x_keys = ['box_pos', 'box_ori', 'task_action']\n",
    "y_keys = ['box_pos', 'box_ori']\n",
    "x_sub_keys = [[None],[None],['push_xz']]\n",
    "y_sub_keys = [[None],[None]]\n",
    "\n",
    "data_x, data_y = data_man.pack_data_in_range_xy(x_keys=x_keys, y_keys=y_keys, \n",
    "                                                 x_sub_keys=x_sub_keys, y_sub_keys=y_sub_keys, \n",
    "                                                 ids=ids, \n",
    "                                                 before_after=True, \n",
    "                                                 data_file_range=data_file_indices)"
   ]
  },
  {
   "cell_type": "code",
   "execution_count": 30,
   "metadata": {
    "collapsed": false
   },
   "outputs": [
    {
     "data": {
      "text/plain": [
       "[]"
      ]
     },
     "execution_count": 30,
     "metadata": {},
     "output_type": "execute_result"
    }
   ],
   "source": [
    "data_y"
   ]
  },
  {
   "cell_type": "code",
   "execution_count": 13,
   "metadata": {
    "collapsed": false
   },
   "outputs": [],
   "source": [
    "xs = np.random.uniform(-10.5, 10.5, (14, NSAMPLE)).T\n",
    "ys = np.random.uniform(-10.5, 10.5, (2, NSAMPLE)).T"
   ]
  },
  {
   "cell_type": "code",
   "execution_count": null,
   "metadata": {
    "collapsed": false,
    "scrolled": false
   },
   "outputs": [],
   "source": []
  },
  {
   "cell_type": "code",
   "execution_count": 14,
   "metadata": {
    "collapsed": false,
    "scrolled": true
   },
   "outputs": [],
   "source": [
    "sess.run(tf.global_variables_initializer())\n",
    "\n",
    "NEPOCH = 10000\n",
    "loss = inverse_model.train(x_data = xs, y_data = ys, epochs =  NEPOCH)"
   ]
  },
  {
   "cell_type": "code",
   "execution_count": 15,
   "metadata": {
    "collapsed": false
   },
   "outputs": [
    {
     "name": "stdout",
     "output_type": "stream",
     "text": [
      "[ 11.97430515  11.87326908  11.7735281  ...,   4.26669216   4.26635313\n",
      "   4.26635647]\n"
     ]
    }
   ],
   "source": [
    "print loss"
   ]
  },
  {
   "cell_type": "code",
   "execution_count": 16,
   "metadata": {
    "collapsed": false,
    "scrolled": true
   },
   "outputs": [
    {
     "data": {
      "image/png": "[encoded data removed]",
      "text/plain": [
       "<matplotlib.figure.Figure at 0x7fba596eca50>"
      ]
     },
     "metadata": {},
     "output_type": "display_data"
    }
   ],
   "source": [
    "plt.figure(figsize=(8, 8))\n",
    "plt.plot(np.arange(100, NEPOCH,1), loss[100:], 'r-')\n",
    "plt.show()"
   ]
  },
  {
   "cell_type": "code",
   "execution_count": 17,
   "metadata": {
    "collapsed": false
   },
   "outputs": [],
   "source": [
    "from aml_dl.mdn.model.tf_mdn_model import MixtureOfGaussians"
   ]
  },
  {
   "cell_type": "code",
   "execution_count": 18,
   "metadata": {
    "collapsed": false
   },
   "outputs": [],
   "source": [
    "out_pi = inverse_model._net_ops['pi']\n",
    "out_sigma = inverse_model._net_ops['sigma']\n",
    "out_mu = inverse_model._net_ops['mu']\n",
    "x = inverse_model._net_ops['x']"
   ]
  },
  {
   "cell_type": "code",
   "execution_count": 19,
   "metadata": {
    "collapsed": false
   },
   "outputs": [],
   "source": [
    "mixture = MixtureOfGaussians()"
   ]
  },
  {
   "cell_type": "code",
   "execution_count": 20,
   "metadata": {
    "collapsed": true
   },
   "outputs": [],
   "source": [
    "x_test = np.float32(np.arange(-15,15,0.1))\n",
    "NTEST = x_test.size\n",
    "x_test = x_test.reshape(NTEST,1) # needs to be a matrix, not a vector\n"
   ]
  },
  {
   "cell_type": "code",
   "execution_count": 21,
   "metadata": {
    "collapsed": false
   },
   "outputs": [
    {
     "ename": "ValueError",
     "evalue": "Cannot feed value of shape (300, 1) for Tensor u'x_1:0', which has shape '(?, 14)'",
     "output_type": "error",
     "traceback": [
      "\u001b[0;31m---------------------------------------------------------------------------\u001b[0m",
      "\u001b[0;31mValueError\u001b[0m                                Traceback (most recent call last)",
      "\u001b[0;32m<ipython-input-21-bf542b965803>\u001b[0m in \u001b[0;36m<module>\u001b[0;34m()\u001b[0m\n\u001b[0;32m----> 1\u001b[0;31m \u001b[0mout_pi_test\u001b[0m\u001b[0;34m,\u001b[0m \u001b[0mout_sigma_test\u001b[0m\u001b[0;34m,\u001b[0m \u001b[0mout_mu_test\u001b[0m \u001b[0;34m=\u001b[0m \u001b[0msess\u001b[0m\u001b[0;34m.\u001b[0m\u001b[0mrun\u001b[0m\u001b[0;34m(\u001b[0m\u001b[0;34m[\u001b[0m\u001b[0mout_pi\u001b[0m\u001b[0;34m,\u001b[0m \u001b[0mout_sigma\u001b[0m\u001b[0;34m,\u001b[0m \u001b[0mout_mu\u001b[0m\u001b[0;34m]\u001b[0m\u001b[0;34m,\u001b[0m \u001b[0mfeed_dict\u001b[0m\u001b[0;34m=\u001b[0m\u001b[0;34m{\u001b[0m\u001b[0mx\u001b[0m\u001b[0;34m:\u001b[0m \u001b[0mx_test\u001b[0m\u001b[0;34m}\u001b[0m\u001b[0;34m)\u001b[0m\u001b[0;34m\u001b[0m\u001b[0m\n\u001b[0m",
      "\u001b[0;32m/home/ermanoarruda/.virtualenvs/robotics/local/lib/python2.7/site-packages/tensorflow/python/client/session.pyc\u001b[0m in \u001b[0;36mrun\u001b[0;34m(self, fetches, feed_dict, options, run_metadata)\u001b[0m\n\u001b[1;32m    764\u001b[0m     \u001b[0;32mtry\u001b[0m\u001b[0;34m:\u001b[0m\u001b[0;34m\u001b[0m\u001b[0m\n\u001b[1;32m    765\u001b[0m       result = self._run(None, fetches, feed_dict, options_ptr,\n\u001b[0;32m--> 766\u001b[0;31m                          run_metadata_ptr)\n\u001b[0m\u001b[1;32m    767\u001b[0m       \u001b[0;32mif\u001b[0m \u001b[0mrun_metadata\u001b[0m\u001b[0;34m:\u001b[0m\u001b[0;34m\u001b[0m\u001b[0m\n\u001b[1;32m    768\u001b[0m         \u001b[0mproto_data\u001b[0m \u001b[0;34m=\u001b[0m \u001b[0mtf_session\u001b[0m\u001b[0;34m.\u001b[0m\u001b[0mTF_GetBuffer\u001b[0m\u001b[0;34m(\u001b[0m\u001b[0mrun_metadata_ptr\u001b[0m\u001b[0;34m)\u001b[0m\u001b[0;34m\u001b[0m\u001b[0m\n",
      "\u001b[0;32m/home/ermanoarruda/.virtualenvs/robotics/local/lib/python2.7/site-packages/tensorflow/python/client/session.pyc\u001b[0m in \u001b[0;36m_run\u001b[0;34m(self, handle, fetches, feed_dict, options, run_metadata)\u001b[0m\n\u001b[1;32m    941\u001b[0m                 \u001b[0;34m'Cannot feed value of shape %r for Tensor %r, '\u001b[0m\u001b[0;34m\u001b[0m\u001b[0m\n\u001b[1;32m    942\u001b[0m                 \u001b[0;34m'which has shape %r'\u001b[0m\u001b[0;34m\u001b[0m\u001b[0m\n\u001b[0;32m--> 943\u001b[0;31m                 % (np_val.shape, subfeed_t.name, str(subfeed_t.get_shape())))\n\u001b[0m\u001b[1;32m    944\u001b[0m           \u001b[0;32mif\u001b[0m \u001b[0;32mnot\u001b[0m \u001b[0mself\u001b[0m\u001b[0;34m.\u001b[0m\u001b[0mgraph\u001b[0m\u001b[0;34m.\u001b[0m\u001b[0mis_feedable\u001b[0m\u001b[0;34m(\u001b[0m\u001b[0msubfeed_t\u001b[0m\u001b[0;34m)\u001b[0m\u001b[0;34m:\u001b[0m\u001b[0;34m\u001b[0m\u001b[0m\n\u001b[1;32m    945\u001b[0m             \u001b[0;32mraise\u001b[0m \u001b[0mValueError\u001b[0m\u001b[0;34m(\u001b[0m\u001b[0;34m'Tensor %s may not be fed.'\u001b[0m \u001b[0;34m%\u001b[0m \u001b[0msubfeed_t\u001b[0m\u001b[0;34m)\u001b[0m\u001b[0;34m\u001b[0m\u001b[0m\n",
      "\u001b[0;31mValueError\u001b[0m: Cannot feed value of shape (300, 1) for Tensor u'x_1:0', which has shape '(?, 14)'"
     ]
    }
   ],
   "source": [
    "out_pi_test, out_sigma_test, out_mu_test = sess.run([out_pi, out_sigma, out_mu], feed_dict={x: x_test})"
   ]
  },
  {
   "cell_type": "code",
   "execution_count": null,
   "metadata": {
    "collapsed": false,
    "scrolled": true
   },
   "outputs": [],
   "source": [
    "# print out_mu_test.reshape((300,2))"
   ]
  },
  {
   "cell_type": "code",
   "execution_count": null,
   "metadata": {
    "collapsed": false
   },
   "outputs": [],
   "source": [
    "out_mu_test = out_mu_test.reshape((300,24))\n",
    "print out_pi_test.shape, x_test.shape, out_sigma_test.shape, out_mu_test.shape\n"
   ]
  },
  {
   "cell_type": "code",
   "execution_count": null,
   "metadata": {
    "collapsed": false,
    "scrolled": true
   },
   "outputs": [],
   "source": [
    "\n",
    "\n",
    "y_test = mixture.generate_mixture_samples(out_pi_test, out_mu_test, out_sigma_test,100)\n",
    "\n",
    "plt.figure(figsize=(8, 8))\n",
    "plt.plot(x_data,y_data,'ro', x_test,y_test,'bo',alpha=0.3)\n",
    "plt.show()"
   ]
  },
  {
   "cell_type": "code",
   "execution_count": null,
   "metadata": {
    "collapsed": true
   },
   "outputs": [],
   "source": []
  },
  {
   "cell_type": "code",
   "execution_count": null,
   "metadata": {
    "collapsed": true
   },
   "outputs": [],
   "source": []
  }
 ],
 "metadata": {
  "kernelspec": {
   "display_name": "Python 2",
   "language": "python",
   "name": "python2"
  },
  "language_info": {
   "codemirror_mode": {
    "name": "ipython",
    "version": 2
   },
   "file_extension": ".py",
   "mimetype": "text/x-python",
   "name": "python",
   "nbconvert_exporter": "python",
   "pygments_lexer": "ipython2",
   "version": "2.7.6"
  }
 },
 "nbformat": 4,
 "nbformat_minor": 1
}
