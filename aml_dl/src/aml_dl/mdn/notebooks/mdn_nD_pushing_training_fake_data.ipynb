{
 "cells": [
  {
   "cell_type": "code",
   "execution_count": 1,
   "metadata": {
    "collapsed": false,
    "scrolled": false
   },
   "outputs": [],
   "source": [
    "%load_ext autoreload"
   ]
  },
  {
   "cell_type": "code",
   "execution_count": 2,
   "metadata": {
    "collapsed": true
   },
   "outputs": [],
   "source": [
    "%autoreload 2"
   ]
  },
  {
   "cell_type": "code",
   "execution_count": 3,
   "metadata": {
    "collapsed": true
   },
   "outputs": [],
   "source": [
    "import tensorflow as tf"
   ]
  },
  {
   "cell_type": "code",
   "execution_count": 4,
   "metadata": {
    "collapsed": false
   },
   "outputs": [],
   "source": [
    "%matplotlib inline\n",
    "import matplotlib.pyplot as plt\n",
    "import numpy as np\n",
    "import tensorflow as tf\n",
    "import math"
   ]
  },
  {
   "cell_type": "code",
   "execution_count": 5,
   "metadata": {
    "collapsed": false
   },
   "outputs": [],
   "source": [
    "import numpy as np\n",
    "from sklearn import mixture\n",
    "import matplotlib.pyplot as plt"
   ]
  },
  {
   "cell_type": "code",
   "execution_count": 6,
   "metadata": {
    "collapsed": false
   },
   "outputs": [],
   "source": [
    "#Generate data\n",
    "np.random.seed(27)\n",
    "w1 = np.random.rand(2,14)\n",
    "b1 = np.random.rand(2,1)\n",
    "\n",
    "w2 = np.random.rand(2,14)\n",
    "b2 = np.random.rand(2,1)*-10\n",
    "\n",
    "w3 = np.random.rand(2,14)\n",
    "b3 = np.random.rand(2,1)*10\n",
    "\n",
    "w4 = np.random.rand(2,14)\n",
    "b4 = np.random.rand(2,1)*25\n",
    "\n",
    "def f(x,w,b):\n",
    "    out = np.dot(x,w.T) + b.T\n",
    "    \n",
    "    return out\n",
    "\n",
    "def gendata():\n",
    "    x1 = np.random.randn(300,14)\n",
    "    x2 = np.random.randn(300,14)\n",
    "    x3 = np.random.randn(200,14)\n",
    "    x4 = np.random.randn(200,14)\n",
    "    obs = np.concatenate((f(x1,w1,b1) + 1.6*np.random.randn(1), f(x2,w2,b2) + 1.3*np.random.randn(1), f(x3,w3,b3) + 1.3*np.random.randn(1), f(x4,w4,b4) + 1.1*np.random.randn(1)))\n",
    "    return obs, np.vstack([x1,x2,x3,x4])"
   ]
  },
  {
   "cell_type": "code",
   "execution_count": 7,
   "metadata": {
    "collapsed": false,
    "scrolled": true
   },
   "outputs": [
    {
     "name": "stdout",
     "output_type": "stream",
     "text": [
      "(1000, 2)\n",
      "(1000, 14)\n",
      "[ 0.15620087  0.03622692] [-9.38837594 -2.17037958] [ 1.31373854  4.60711879] [  3.06917465  17.99889061]\n"
     ]
    },
    {
     "data": {
      "image/png": "[encoded data removed]",
      "text/plain": [
       "<matplotlib.figure.Figure at 0x7f3b2d2ad210>"
      ]
     },
     "metadata": {},
     "output_type": "display_data"
    }
   ],
   "source": [
    "\n",
    "obs, input_x = gendata()\n",
    "\n",
    "plt.plot(obs[:, 0], obs[:, 1], '.', markersize=1.0)\n",
    "\n",
    "print obs.shape\n",
    "print input_x.shape\n",
    "\n",
    "print f(input_x,w1,b1)[0,:], f(input_x,w2,b2)[0,:], f(input_x,w3,b3)[0,:], f(input_x,w4,b4)[0,:]"
   ]
  },
  {
   "cell_type": "code",
   "execution_count": 8,
   "metadata": {
    "collapsed": false,
    "scrolled": true
   },
   "outputs": [
    {
     "data": {
      "image/png": "[encoded data removed]",
      "text/plain": [
       "<matplotlib.figure.Figure at 0x7f3b2d2c16d0>"
      ]
     },
     "metadata": {},
     "output_type": "display_data"
    }
   ],
   "source": [
    "counts, xedges, yedges, image = plt.hist2d(obs[:, 0], obs[:, 1],bins=50)"
   ]
  },
  {
   "cell_type": "markdown",
   "metadata": {},
   "source": [
    "## Parameters"
   ]
  },
  {
   "cell_type": "code",
   "execution_count": 9,
   "metadata": {
    "collapsed": true
   },
   "outputs": [],
   "source": [
    "NSAMPLE = 2500"
   ]
  },
  {
   "cell_type": "code",
   "execution_count": 10,
   "metadata": {
    "collapsed": false
   },
   "outputs": [
    {
     "name": "stdout",
     "output_type": "stream",
     "text": [
      "Training data folder does not exist...\n"
     ]
    }
   ],
   "source": [
    "from aml_dl.mdn.training.config import network_params_inv"
   ]
  },
  {
   "cell_type": "code",
   "execution_count": 11,
   "metadata": {
    "collapsed": false
   },
   "outputs": [],
   "source": [
    "from aml_dl.mdn.model.mdn_push_inv_model import MDNPushInverseModel"
   ]
  },
  {
   "cell_type": "code",
   "execution_count": 12,
   "metadata": {
    "collapsed": false
   },
   "outputs": [],
   "source": [
    "sess = tf.InteractiveSession()"
   ]
  },
  {
   "cell_type": "code",
   "execution_count": 13,
   "metadata": {
    "collapsed": false
   },
   "outputs": [],
   "source": [
    "network_params_inv['dim_input'] = 14\n",
    "network_params_inv['dim_output'] = 2\n",
    "network_params_inv['k_mixtures'] = 4\n",
    "network_params_inv['write_summary'] = False\n",
    "\n",
    "inverse_model = MDNPushInverseModel(sess=sess, network_params=network_params_inv)\n",
    "inverse_model.init_model()"
   ]
  },
  {
   "cell_type": "code",
   "execution_count": 14,
   "metadata": {
    "collapsed": false
   },
   "outputs": [],
   "source": [
    "x_curr   = np.random.randn(1,7).tolist()[0]\n",
    "x_tgt    = np.random.randn(1,7).tolist()[0]\n",
    "u_action = np.random.random((1,2))"
   ]
  },
  {
   "cell_type": "code",
   "execution_count": 15,
   "metadata": {
    "collapsed": false,
    "scrolled": true
   },
   "outputs": [],
   "source": [
    "# input_x = np.expand_dims(np.r_[x_curr, x_tgt], 0)\n",
    "\n",
    "# x_test = np.float32(np.random.uniform(-5.5, 5.5, (10,14)))\n",
    "\n",
    "# mus = inverse_model.run_op('mu', x_test)\n",
    "# sigma = inverse_model.run_op('sigma', x_test)\n",
    "# pis = inverse_model.run_op('pi', x_test)\n",
    "# # loss = inverse_model._mdn.run_op(sess,'loss', xs = x_test, ys = u_action)[0]\n",
    "\n",
    "# print \"MUS: \", mus.shape\n",
    "# print \"SIGMA: \", sigma.shape\n",
    "# print \"PIs:\", pis.shape\n",
    "# # print \"LOSS:\", loss\n",
    "# #theta = inverse_model.sample_out_max_pi(input_x, 1)[0]\n",
    "    \n",
    "# pi_ids = inverse_model._max_pi_idx(pis)\n",
    "# print pi_ids\n",
    "# action = mus[0,:, pi_ids]\n",
    "# print action"
   ]
  },
  {
   "cell_type": "code",
   "execution_count": 16,
   "metadata": {
    "collapsed": false
   },
   "outputs": [],
   "source": [
    "xs = input_x#np.random.uniform(-10.5, 10.5, (14, NSAMPLE)).T\n",
    "ys = obs#np.random.uniform(-10.5, 10.5, (2, NSAMPLE)).T"
   ]
  },
  {
   "cell_type": "code",
   "execution_count": 17,
   "metadata": {
    "collapsed": false,
    "scrolled": true
   },
   "outputs": [],
   "source": [
    "sess.run(tf.global_variables_initializer())\n",
    "\n",
    "NEPOCH = 10000\n",
    "loss = inverse_model.train(x_data = xs, y_data = ys, epochs =  NEPOCH)"
   ]
  },
  {
   "cell_type": "code",
   "execution_count": 18,
   "metadata": {
    "collapsed": false
   },
   "outputs": [
    {
     "name": "stdout",
     "output_type": "stream",
     "text": [
      "[ 24.60745239  24.45791054  24.30588341  24.15287971  23.99640274\n",
      "  23.83471489  23.67175484  23.5034523   23.33211327  23.15651703\n",
      "  22.98106194  22.80518723  22.62810898  22.44876099  22.26691818\n",
      "  22.0844059   21.90126038  21.7153492   21.53037834  21.34615898\n",
      "  21.16147804  20.97651291  20.79209137  20.60534286  20.41755486\n",
      "  20.22694397  20.03437614  19.84308243  19.65207481  19.46281624\n",
      "  19.27197075  19.07856178  18.88670349  18.69595909  18.50272179\n",
      "  18.30858803  18.11511803  17.92302513  17.73152924  17.5426712\n",
      "  17.35640335  17.17101669  16.98643875  16.80498505  16.62590218\n",
      "  16.44857979  16.27254868  16.09872246  15.92549801  15.75268936\n",
      "  15.58052349  15.41131306  15.24264717  15.0754385   14.91012287\n",
      "  14.74378967  14.58055401  14.41909504  14.25934029  14.09946823\n",
      "  13.94244003  13.7878809   13.63632393  13.48743248  13.34208202\n",
      "  13.19802952  13.05326366  12.91049862  12.77060032  12.63269138\n",
      "  12.4967556   12.36141968  12.22829247  12.09725666  11.96861553\n",
      "  11.84218407  11.71735668  11.59402657  11.47343731  11.35374451\n",
      "  11.23550224  11.11826134  11.00302124  10.89015007  10.77889919\n",
      "  10.67050838  10.56502628  10.46226788  10.36150074  10.26172352\n",
      "  10.16210175  10.06488228   9.96940422   9.876091     9.78468704\n",
      "   9.69445801   9.60621643   9.5203495    9.43686676   9.35575581]\n"
     ]
    }
   ],
   "source": [
    "print loss[:100]"
   ]
  },
  {
   "cell_type": "code",
   "execution_count": 19,
   "metadata": {
    "collapsed": false,
    "scrolled": false
   },
   "outputs": [
    {
     "data": {
      "image/png": "[encoded data removed]",
      "text/plain": [
       "<matplotlib.figure.Figure at 0x7f3b2d2c13d0>"
      ]
     },
     "metadata": {},
     "output_type": "display_data"
    }
   ],
   "source": [
    "plt.figure(figsize=(8, 8))\n",
    "plt.plot(np.arange(100, NEPOCH,1), loss[100:], 'r-')\n",
    "plt.show()"
   ]
  },
  {
   "cell_type": "code",
   "execution_count": 20,
   "metadata": {
    "collapsed": false
   },
   "outputs": [],
   "source": [
    "# from aml_dl.mdn.model.tf_mdn_model import MixtureOfGaussians"
   ]
  },
  {
   "cell_type": "code",
   "execution_count": 21,
   "metadata": {
    "collapsed": false
   },
   "outputs": [],
   "source": [
    "out_pi = inverse_model._net_ops['pi']\n",
    "out_sigma = inverse_model._net_ops['sigma']\n",
    "out_mu = inverse_model._net_ops['mu']\n",
    "x = inverse_model._net_ops['x']"
   ]
  },
  {
   "cell_type": "code",
   "execution_count": null,
   "metadata": {
    "collapsed": false
   },
   "outputs": [],
   "source": []
  },
  {
   "cell_type": "code",
   "execution_count": 22,
   "metadata": {
    "collapsed": false
   },
   "outputs": [],
   "source": [
    "# mixture = MixtureOfGaussians()"
   ]
  },
  {
   "cell_type": "code",
   "execution_count": 23,
   "metadata": {
    "collapsed": true
   },
   "outputs": [],
   "source": [
    "x_test = np.random.uniform(-10.5, 10.5, (14, NSAMPLE)).T\n",
    "NTEST = x_test.size\n",
    "# ids\n"
   ]
  },
  {
   "cell_type": "code",
   "execution_count": 46,
   "metadata": {
    "collapsed": false
   },
   "outputs": [
    {
     "data": {
      "text/plain": [
       "array([-1.11507676, -1.23370216, -1.26788754,  0.60321692,  1.10255068,\n",
       "        1.50807299,  0.76113001,  0.51978011,  0.72241364, -0.08678211,\n",
       "       -0.22698337,  0.22780245,  0.47119014, -2.16606772])"
      ]
     },
     "execution_count": 46,
     "metadata": {},
     "output_type": "execute_result"
    }
   ],
   "source": [
    "input_x[0]"
   ]
  },
  {
   "cell_type": "code",
   "execution_count": 53,
   "metadata": {
    "collapsed": false
   },
   "outputs": [],
   "source": [
    "out_pi_test, out_sigma_test, out_mu_test = sess.run([out_pi, out_sigma, out_mu], \n",
    "                                                    feed_dict={x: input_x})"
   ]
  },
  {
   "cell_type": "code",
   "execution_count": 54,
   "metadata": {
    "collapsed": false
   },
   "outputs": [
    {
     "name": "stdout",
     "output_type": "stream",
     "text": [
      "(1000, 4) (2500, 14) (1000, 4) (1000, 2, 4)\n"
     ]
    }
   ],
   "source": [
    "\n",
    "print out_pi_test.shape, x_test.shape, out_sigma_test.shape, out_mu_test.shape\n"
   ]
  },
  {
   "cell_type": "code",
   "execution_count": 26,
   "metadata": {
    "collapsed": false,
    "scrolled": true
   },
   "outputs": [],
   "source": [
    "# print out_mu_test.reshape((300,2))"
   ]
  },
  {
   "cell_type": "code",
   "execution_count": 55,
   "metadata": {
    "collapsed": true
   },
   "outputs": [],
   "source": [
    "samples = inverse_model._generate_mixture_samples(out_pi_test,out_mu_test,out_sigma_test, 1000)"
   ]
  },
  {
   "cell_type": "code",
   "execution_count": 49,
   "metadata": {
    "collapsed": false
   },
   "outputs": [
    {
     "name": "stdout",
     "output_type": "stream",
     "text": [
      "(1, 2, 1000)\n"
     ]
    }
   ],
   "source": [
    "print samples.shape"
   ]
  },
  {
   "cell_type": "code",
   "execution_count": null,
   "metadata": {
    "collapsed": false,
    "scrolled": false
   },
   "outputs": [
    {
     "data": {
      "application/javascript": [
       "/* Put everything inside the global mpl namespace */\n",
       "window.mpl = {};\n",
       "\n",
       "mpl.get_websocket_type = function() {\n",
       "    if (typeof(WebSocket) !== 'undefined') {\n",
       "        return WebSocket;\n",
       "    } else if (typeof(MozWebSocket) !== 'undefined') {\n",
       "        return MozWebSocket;\n",
       "    } else {\n",
       "        alert('Your browser does not have WebSocket support.' +\n",
       "              'Please try Chrome, Safari or Firefox ≥ 6. ' +\n",
       "              'Firefox 4 and 5 are also supported but you ' +\n",
       "              'have to enable WebSockets in about:config.');\n",
       "    };\n",
       "}\n",
       "\n",
       "mpl.figure = function(figure_id, websocket, ondownload, parent_element) {\n",
       "    this.id = figure_id;\n",
       "\n",
       "    this.ws = websocket;\n",
       "\n",
       "    this.supports_binary = (this.ws.binaryType != undefined);\n",
       "\n",
       "    if (!this.supports_binary) {\n",
       "        var warnings = document.getElementById(\"mpl-warnings\");\n",
       "        if (warnings) {\n",
       "            warnings.style.display = 'block';\n",
       "            warnings.textContent = (\n",
       "                \"This browser does not support binary websocket messages. \" +\n",
       "                    \"Performance may be slow.\");\n",
       "        }\n",
       "    }\n",
       "\n",
       "    this.imageObj = new Image();\n",
       "\n",
       "    this.context = undefined;\n",
       "    this.message = undefined;\n",
       "    this.canvas = undefined;\n",
       "    this.rubberband_canvas = undefined;\n",
       "    this.rubberband_context = undefined;\n",
       "    this.format_dropdown = undefined;\n",
       "\n",
       "    this.image_mode = 'full';\n",
       "\n",
       "    this.root = $('<div/>');\n",
       "    this._root_extra_style(this.root)\n",
       "    this.root.attr('style', 'display: inline-block');\n",
       "\n",
       "    $(parent_element).append(this.root);\n",
       "\n",
       "    this._init_header(this);\n",
       "    this._init_canvas(this);\n",
       "    this._init_toolbar(this);\n",
       "\n",
       "    var fig = this;\n",
       "\n",
       "    this.waiting = false;\n",
       "\n",
       "    this.ws.onopen =  function () {\n",
       "            fig.send_message(\"supports_binary\", {value: fig.supports_binary});\n",
       "            fig.send_message(\"send_image_mode\", {});\n",
       "            fig.send_message(\"refresh\", {});\n",
       "        }\n",
       "\n",
       "    this.imageObj.onload = function() {\n",
       "            if (fig.image_mode == 'full') {\n",
       "                // Full images could contain transparency (where diff images\n",
       "                // almost always do), so we need to clear the canvas so that\n",
       "                // there is no ghosting.\n",
       "                fig.context.clearRect(0, 0, fig.canvas.width, fig.canvas.height);\n",
       "            }\n",
       "            fig.context.drawImage(fig.imageObj, 0, 0);\n",
       "        };\n",
       "\n",
       "    this.imageObj.onunload = function() {\n",
       "        this.ws.close();\n",
       "    }\n",
       "\n",
       "    this.ws.onmessage = this._make_on_message_function(this);\n",
       "\n",
       "    this.ondownload = ondownload;\n",
       "}\n",
       "\n",
       "mpl.figure.prototype._init_header = function() {\n",
       "    var titlebar = $(\n",
       "        '<div class=\"ui-dialog-titlebar ui-widget-header ui-corner-all ' +\n",
       "        'ui-helper-clearfix\"/>');\n",
       "    var titletext = $(\n",
       "        '<div class=\"ui-dialog-title\" style=\"width: 100%; ' +\n",
       "        'text-align: center; padding: 3px;\"/>');\n",
       "    titlebar.append(titletext)\n",
       "    this.root.append(titlebar);\n",
       "    this.header = titletext[0];\n",
       "}\n",
       "\n",
       "\n",
       "\n",
       "mpl.figure.prototype._canvas_extra_style = function(canvas_div) {\n",
       "\n",
       "}\n",
       "\n",
       "\n",
       "mpl.figure.prototype._root_extra_style = function(canvas_div) {\n",
       "\n",
       "}\n",
       "\n",
       "mpl.figure.prototype._init_canvas = function() {\n",
       "    var fig = this;\n",
       "\n",
       "    var canvas_div = $('<div/>');\n",
       "\n",
       "    canvas_div.attr('style', 'position: relative; clear: both; outline: 0');\n",
       "\n",
       "    function canvas_keyboard_event(event) {\n",
       "        return fig.key_event(event, event['data']);\n",
       "    }\n",
       "\n",
       "    canvas_div.keydown('key_press', canvas_keyboard_event);\n",
       "    canvas_div.keyup('key_release', canvas_keyboard_event);\n",
       "    this.canvas_div = canvas_div\n",
       "    this._canvas_extra_style(canvas_div)\n",
       "    this.root.append(canvas_div);\n",
       "\n",
       "    var canvas = $('<canvas/>');\n",
       "    canvas.addClass('mpl-canvas');\n",
       "    canvas.attr('style', \"left: 0; top: 0; z-index: 0; outline: 0\")\n",
       "\n",
       "    this.canvas = canvas[0];\n",
       "    this.context = canvas[0].getContext(\"2d\");\n",
       "\n",
       "    var rubberband = $('<canvas/>');\n",
       "    rubberband.attr('style', \"position: absolute; left: 0; top: 0; z-index: 1;\")\n",
       "\n",
       "    var pass_mouse_events = true;\n",
       "\n",
       "    canvas_div.resizable({\n",
       "        start: function(event, ui) {\n",
       "            pass_mouse_events = false;\n",
       "        },\n",
       "        resize: function(event, ui) {\n",
       "            fig.request_resize(ui.size.width, ui.size.height);\n",
       "        },\n",
       "        stop: function(event, ui) {\n",
       "            pass_mouse_events = true;\n",
       "            fig.request_resize(ui.size.width, ui.size.height);\n",
       "        },\n",
       "    });\n",
       "\n",
       "    function mouse_event_fn(event) {\n",
       "        if (pass_mouse_events)\n",
       "            return fig.mouse_event(event, event['data']);\n",
       "    }\n",
       "\n",
       "    rubberband.mousedown('button_press', mouse_event_fn);\n",
       "    rubberband.mouseup('button_release', mouse_event_fn);\n",
       "    // Throttle sequential mouse events to 1 every 20ms.\n",
       "    rubberband.mousemove('motion_notify', mouse_event_fn);\n",
       "\n",
       "    rubberband.mouseenter('figure_enter', mouse_event_fn);\n",
       "    rubberband.mouseleave('figure_leave', mouse_event_fn);\n",
       "\n",
       "    canvas_div.on(\"wheel\", function (event) {\n",
       "        event = event.originalEvent;\n",
       "        event['data'] = 'scroll'\n",
       "        if (event.deltaY < 0) {\n",
       "            event.step = 1;\n",
       "        } else {\n",
       "            event.step = -1;\n",
       "        }\n",
       "        mouse_event_fn(event);\n",
       "    });\n",
       "\n",
       "    canvas_div.append(canvas);\n",
       "    canvas_div.append(rubberband);\n",
       "\n",
       "    this.rubberband = rubberband;\n",
       "    this.rubberband_canvas = rubberband[0];\n",
       "    this.rubberband_context = rubberband[0].getContext(\"2d\");\n",
       "    this.rubberband_context.strokeStyle = \"#000000\";\n",
       "\n",
       "    this._resize_canvas = function(width, height) {\n",
       "        // Keep the size of the canvas, canvas container, and rubber band\n",
       "        // canvas in synch.\n",
       "        canvas_div.css('width', width)\n",
       "        canvas_div.css('height', height)\n",
       "\n",
       "        canvas.attr('width', width);\n",
       "        canvas.attr('height', height);\n",
       "\n",
       "        rubberband.attr('width', width);\n",
       "        rubberband.attr('height', height);\n",
       "    }\n",
       "\n",
       "    // Set the figure to an initial 600x600px, this will subsequently be updated\n",
       "    // upon first draw.\n",
       "    this._resize_canvas(600, 600);\n",
       "\n",
       "    // Disable right mouse context menu.\n",
       "    $(this.rubberband_canvas).bind(\"contextmenu\",function(e){\n",
       "        return false;\n",
       "    });\n",
       "\n",
       "    function set_focus () {\n",
       "        canvas.focus();\n",
       "        canvas_div.focus();\n",
       "    }\n",
       "\n",
       "    window.setTimeout(set_focus, 100);\n",
       "}\n",
       "\n",
       "mpl.figure.prototype._init_toolbar = function() {\n",
       "    var fig = this;\n",
       "\n",
       "    var nav_element = $('<div/>')\n",
       "    nav_element.attr('style', 'width: 100%');\n",
       "    this.root.append(nav_element);\n",
       "\n",
       "    // Define a callback function for later on.\n",
       "    function toolbar_event(event) {\n",
       "        return fig.toolbar_button_onclick(event['data']);\n",
       "    }\n",
       "    function toolbar_mouse_event(event) {\n",
       "        return fig.toolbar_button_onmouseover(event['data']);\n",
       "    }\n",
       "\n",
       "    for(var toolbar_ind in mpl.toolbar_items) {\n",
       "        var name = mpl.toolbar_items[toolbar_ind][0];\n",
       "        var tooltip = mpl.toolbar_items[toolbar_ind][1];\n",
       "        var image = mpl.toolbar_items[toolbar_ind][2];\n",
       "        var method_name = mpl.toolbar_items[toolbar_ind][3];\n",
       "\n",
       "        if (!name) {\n",
       "            // put a spacer in here.\n",
       "            continue;\n",
       "        }\n",
       "        var button = $('<button/>');\n",
       "        button.addClass('ui-button ui-widget ui-state-default ui-corner-all ' +\n",
       "                        'ui-button-icon-only');\n",
       "        button.attr('role', 'button');\n",
       "        button.attr('aria-disabled', 'false');\n",
       "        button.click(method_name, toolbar_event);\n",
       "        button.mouseover(tooltip, toolbar_mouse_event);\n",
       "\n",
       "        var icon_img = $('<span/>');\n",
       "        icon_img.addClass('ui-button-icon-primary ui-icon');\n",
       "        icon_img.addClass(image);\n",
       "        icon_img.addClass('ui-corner-all');\n",
       "\n",
       "        var tooltip_span = $('<span/>');\n",
       "        tooltip_span.addClass('ui-button-text');\n",
       "        tooltip_span.html(tooltip);\n",
       "\n",
       "        button.append(icon_img);\n",
       "        button.append(tooltip_span);\n",
       "\n",
       "        nav_element.append(button);\n",
       "    }\n",
       "\n",
       "    var fmt_picker_span = $('<span/>');\n",
       "\n",
       "    var fmt_picker = $('<select/>');\n",
       "    fmt_picker.addClass('mpl-toolbar-option ui-widget ui-widget-content');\n",
       "    fmt_picker_span.append(fmt_picker);\n",
       "    nav_element.append(fmt_picker_span);\n",
       "    this.format_dropdown = fmt_picker[0];\n",
       "\n",
       "    for (var ind in mpl.extensions) {\n",
       "        var fmt = mpl.extensions[ind];\n",
       "        var option = $(\n",
       "            '<option/>', {selected: fmt === mpl.default_extension}).html(fmt);\n",
       "        fmt_picker.append(option)\n",
       "    }\n",
       "\n",
       "    // Add hover states to the ui-buttons\n",
       "    $( \".ui-button\" ).hover(\n",
       "        function() { $(this).addClass(\"ui-state-hover\");},\n",
       "        function() { $(this).removeClass(\"ui-state-hover\");}\n",
       "    );\n",
       "\n",
       "    var status_bar = $('<span class=\"mpl-message\"/>');\n",
       "    nav_element.append(status_bar);\n",
       "    this.message = status_bar[0];\n",
       "}\n",
       "\n",
       "mpl.figure.prototype.request_resize = function(x_pixels, y_pixels) {\n",
       "    // Request matplotlib to resize the figure. Matplotlib will then trigger a resize in the client,\n",
       "    // which will in turn request a refresh of the image.\n",
       "    this.send_message('resize', {'width': x_pixels, 'height': y_pixels});\n",
       "}\n",
       "\n",
       "mpl.figure.prototype.send_message = function(type, properties) {\n",
       "    properties['type'] = type;\n",
       "    properties['figure_id'] = this.id;\n",
       "    this.ws.send(JSON.stringify(properties));\n",
       "}\n",
       "\n",
       "mpl.figure.prototype.send_draw_message = function() {\n",
       "    if (!this.waiting) {\n",
       "        this.waiting = true;\n",
       "        this.ws.send(JSON.stringify({type: \"draw\", figure_id: this.id}));\n",
       "    }\n",
       "}\n",
       "\n",
       "\n",
       "mpl.figure.prototype.handle_save = function(fig, msg) {\n",
       "    var format_dropdown = fig.format_dropdown;\n",
       "    var format = format_dropdown.options[format_dropdown.selectedIndex].value;\n",
       "    fig.ondownload(fig, format);\n",
       "}\n",
       "\n",
       "\n",
       "mpl.figure.prototype.handle_resize = function(fig, msg) {\n",
       "    var size = msg['size'];\n",
       "    if (size[0] != fig.canvas.width || size[1] != fig.canvas.height) {\n",
       "        fig._resize_canvas(size[0], size[1]);\n",
       "        fig.send_message(\"refresh\", {});\n",
       "    };\n",
       "}\n",
       "\n",
       "mpl.figure.prototype.handle_rubberband = function(fig, msg) {\n",
       "    var x0 = msg['x0'];\n",
       "    var y0 = fig.canvas.height - msg['y0'];\n",
       "    var x1 = msg['x1'];\n",
       "    var y1 = fig.canvas.height - msg['y1'];\n",
       "    x0 = Math.floor(x0) + 0.5;\n",
       "    y0 = Math.floor(y0) + 0.5;\n",
       "    x1 = Math.floor(x1) + 0.5;\n",
       "    y1 = Math.floor(y1) + 0.5;\n",
       "    var min_x = Math.min(x0, x1);\n",
       "    var min_y = Math.min(y0, y1);\n",
       "    var width = Math.abs(x1 - x0);\n",
       "    var height = Math.abs(y1 - y0);\n",
       "\n",
       "    fig.rubberband_context.clearRect(\n",
       "        0, 0, fig.canvas.width, fig.canvas.height);\n",
       "\n",
       "    fig.rubberband_context.strokeRect(min_x, min_y, width, height);\n",
       "}\n",
       "\n",
       "mpl.figure.prototype.handle_figure_label = function(fig, msg) {\n",
       "    // Updates the figure title.\n",
       "    fig.header.textContent = msg['label'];\n",
       "}\n",
       "\n",
       "mpl.figure.prototype.handle_cursor = function(fig, msg) {\n",
       "    var cursor = msg['cursor'];\n",
       "    switch(cursor)\n",
       "    {\n",
       "    case 0:\n",
       "        cursor = 'pointer';\n",
       "        break;\n",
       "    case 1:\n",
       "        cursor = 'default';\n",
       "        break;\n",
       "    case 2:\n",
       "        cursor = 'crosshair';\n",
       "        break;\n",
       "    case 3:\n",
       "        cursor = 'move';\n",
       "        break;\n",
       "    }\n",
       "    fig.rubberband_canvas.style.cursor = cursor;\n",
       "}\n",
       "\n",
       "mpl.figure.prototype.handle_message = function(fig, msg) {\n",
       "    fig.message.textContent = msg['message'];\n",
       "}\n",
       "\n",
       "mpl.figure.prototype.handle_draw = function(fig, msg) {\n",
       "    // Request the server to send over a new figure.\n",
       "    fig.send_draw_message();\n",
       "}\n",
       "\n",
       "mpl.figure.prototype.handle_image_mode = function(fig, msg) {\n",
       "    fig.image_mode = msg['mode'];\n",
       "}\n",
       "\n",
       "mpl.figure.prototype.updated_canvas_event = function() {\n",
       "    // Called whenever the canvas gets updated.\n",
       "    this.send_message(\"ack\", {});\n",
       "}\n",
       "\n",
       "// A function to construct a web socket function for onmessage handling.\n",
       "// Called in the figure constructor.\n",
       "mpl.figure.prototype._make_on_message_function = function(fig) {\n",
       "    return function socket_on_message(evt) {\n",
       "        if (evt.data instanceof Blob) {\n",
       "            /* FIXME: We get \"Resource interpreted as Image but\n",
       "             * transferred with MIME type text/plain:\" errors on\n",
       "             * Chrome.  But how to set the MIME type?  It doesn't seem\n",
       "             * to be part of the websocket stream */\n",
       "            evt.data.type = \"image/png\";\n",
       "\n",
       "            /* Free the memory for the previous frames */\n",
       "            if (fig.imageObj.src) {\n",
       "                (window.URL || window.webkitURL).revokeObjectURL(\n",
       "                    fig.imageObj.src);\n",
       "            }\n",
       "\n",
       "            fig.imageObj.src = (window.URL || window.webkitURL).createObjectURL(\n",
       "                evt.data);\n",
       "            fig.updated_canvas_event();\n",
       "            fig.waiting = false;\n",
       "            return;\n",
       "        }\n",
       "        else if (typeof evt.data === 'string' && evt.data.slice(0, 21) == \"data:image/png;base64\") {\n",
       "            fig.imageObj.src = evt.data;\n",
       "            fig.updated_canvas_event();\n",
       "            fig.waiting = false;\n",
       "            return;\n",
       "        }\n",
       "\n",
       "        var msg = JSON.parse(evt.data);\n",
       "        var msg_type = msg['type'];\n",
       "\n",
       "        // Call the  \"handle_{type}\" callback, which takes\n",
       "        // the figure and JSON message as its only arguments.\n",
       "        try {\n",
       "            var callback = fig[\"handle_\" + msg_type];\n",
       "        } catch (e) {\n",
       "            console.log(\"No handler for the '\" + msg_type + \"' message type: \", msg);\n",
       "            return;\n",
       "        }\n",
       "\n",
       "        if (callback) {\n",
       "            try {\n",
       "                // console.log(\"Handling '\" + msg_type + \"' message: \", msg);\n",
       "                callback(fig, msg);\n",
       "            } catch (e) {\n",
       "                console.log(\"Exception inside the 'handler_\" + msg_type + \"' callback:\", e, e.stack, msg);\n",
       "            }\n",
       "        }\n",
       "    };\n",
       "}\n",
       "\n",
       "// from http://stackoverflow.com/questions/1114465/getting-mouse-location-in-canvas\n",
       "mpl.findpos = function(e) {\n",
       "    //this section is from http://www.quirksmode.org/js/events_properties.html\n",
       "    var targ;\n",
       "    if (!e)\n",
       "        e = window.event;\n",
       "    if (e.target)\n",
       "        targ = e.target;\n",
       "    else if (e.srcElement)\n",
       "        targ = e.srcElement;\n",
       "    if (targ.nodeType == 3) // defeat Safari bug\n",
       "        targ = targ.parentNode;\n",
       "\n",
       "    // jQuery normalizes the pageX and pageY\n",
       "    // pageX,Y are the mouse positions relative to the document\n",
       "    // offset() returns the position of the element relative to the document\n",
       "    var x = e.pageX - $(targ).offset().left;\n",
       "    var y = e.pageY - $(targ).offset().top;\n",
       "\n",
       "    return {\"x\": x, \"y\": y};\n",
       "};\n",
       "\n",
       "/*\n",
       " * return a copy of an object with only non-object keys\n",
       " * we need this to avoid circular references\n",
       " * http://stackoverflow.com/a/24161582/3208463\n",
       " */\n",
       "function simpleKeys (original) {\n",
       "  return Object.keys(original).reduce(function (obj, key) {\n",
       "    if (typeof original[key] !== 'object')\n",
       "        obj[key] = original[key]\n",
       "    return obj;\n",
       "  }, {});\n",
       "}\n",
       "\n",
       "mpl.figure.prototype.mouse_event = function(event, name) {\n",
       "    var canvas_pos = mpl.findpos(event)\n",
       "\n",
       "    if (name === 'button_press')\n",
       "    {\n",
       "        this.canvas.focus();\n",
       "        this.canvas_div.focus();\n",
       "    }\n",
       "\n",
       "    var x = canvas_pos.x;\n",
       "    var y = canvas_pos.y;\n",
       "\n",
       "    this.send_message(name, {x: x, y: y, button: event.button,\n",
       "                             step: event.step,\n",
       "                             guiEvent: simpleKeys(event)});\n",
       "\n",
       "    /* This prevents the web browser from automatically changing to\n",
       "     * the text insertion cursor when the button is pressed.  We want\n",
       "     * to control all of the cursor setting manually through the\n",
       "     * 'cursor' event from matplotlib */\n",
       "    event.preventDefault();\n",
       "    return false;\n",
       "}\n",
       "\n",
       "mpl.figure.prototype._key_event_extra = function(event, name) {\n",
       "    // Handle any extra behaviour associated with a key event\n",
       "}\n",
       "\n",
       "mpl.figure.prototype.key_event = function(event, name) {\n",
       "\n",
       "    // Prevent repeat events\n",
       "    if (name == 'key_press')\n",
       "    {\n",
       "        if (event.which === this._key)\n",
       "            return;\n",
       "        else\n",
       "            this._key = event.which;\n",
       "    }\n",
       "    if (name == 'key_release')\n",
       "        this._key = null;\n",
       "\n",
       "    var value = '';\n",
       "    if (event.ctrlKey && event.which != 17)\n",
       "        value += \"ctrl+\";\n",
       "    if (event.altKey && event.which != 18)\n",
       "        value += \"alt+\";\n",
       "    if (event.shiftKey && event.which != 16)\n",
       "        value += \"shift+\";\n",
       "\n",
       "    value += 'k';\n",
       "    value += event.which.toString();\n",
       "\n",
       "    this._key_event_extra(event, name);\n",
       "\n",
       "    this.send_message(name, {key: value,\n",
       "                             guiEvent: simpleKeys(event)});\n",
       "    return false;\n",
       "}\n",
       "\n",
       "mpl.figure.prototype.toolbar_button_onclick = function(name) {\n",
       "    if (name == 'download') {\n",
       "        this.handle_save(this, null);\n",
       "    } else {\n",
       "        this.send_message(\"toolbar_button\", {name: name});\n",
       "    }\n",
       "};\n",
       "\n",
       "mpl.figure.prototype.toolbar_button_onmouseover = function(tooltip) {\n",
       "    this.message.textContent = tooltip;\n",
       "};\n",
       "mpl.toolbar_items = [[\"Home\", \"Reset original view\", \"fa fa-home icon-home\", \"home\"], [\"Back\", \"Back to  previous view\", \"fa fa-arrow-left icon-arrow-left\", \"back\"], [\"Forward\", \"Forward to next view\", \"fa fa-arrow-right icon-arrow-right\", \"forward\"], [\"\", \"\", \"\", \"\"], [\"Pan\", \"Pan axes with left mouse, zoom with right\", \"fa fa-arrows icon-move\", \"pan\"], [\"Zoom\", \"Zoom to rectangle\", \"fa fa-square-o icon-check-empty\", \"zoom\"], [\"\", \"\", \"\", \"\"], [\"Download\", \"Download plot\", \"fa fa-floppy-o icon-save\", \"download\"]];\n",
       "\n",
       "mpl.extensions = [\"eps\", \"jpeg\", \"pdf\", \"png\", \"ps\", \"raw\", \"svg\", \"tif\"];\n",
       "\n",
       "mpl.default_extension = \"png\";var comm_websocket_adapter = function(comm) {\n",
       "    // Create a \"websocket\"-like object which calls the given IPython comm\n",
       "    // object with the appropriate methods. Currently this is a non binary\n",
       "    // socket, so there is still some room for performance tuning.\n",
       "    var ws = {};\n",
       "\n",
       "    ws.close = function() {\n",
       "        comm.close()\n",
       "    };\n",
       "    ws.send = function(m) {\n",
       "        //console.log('sending', m);\n",
       "        comm.send(m);\n",
       "    };\n",
       "    // Register the callback with on_msg.\n",
       "    comm.on_msg(function(msg) {\n",
       "        //console.log('receiving', msg['content']['data'], msg);\n",
       "        // Pass the mpl event to the overriden (by mpl) onmessage function.\n",
       "        ws.onmessage(msg['content']['data'])\n",
       "    });\n",
       "    return ws;\n",
       "}\n",
       "\n",
       "mpl.mpl_figure_comm = function(comm, msg) {\n",
       "    // This is the function which gets called when the mpl process\n",
       "    // starts-up an IPython Comm through the \"matplotlib\" channel.\n",
       "\n",
       "    var id = msg.content.data.id;\n",
       "    // Get hold of the div created by the display call when the Comm\n",
       "    // socket was opened in Python.\n",
       "    var element = $(\"#\" + id);\n",
       "    var ws_proxy = comm_websocket_adapter(comm)\n",
       "\n",
       "    function ondownload(figure, format) {\n",
       "        window.open(figure.imageObj.src);\n",
       "    }\n",
       "\n",
       "    var fig = new mpl.figure(id, ws_proxy,\n",
       "                           ondownload,\n",
       "                           element.get(0));\n",
       "\n",
       "    // Call onopen now - mpl needs it, as it is assuming we've passed it a real\n",
       "    // web socket which is closed, not our websocket->open comm proxy.\n",
       "    ws_proxy.onopen();\n",
       "\n",
       "    fig.parent_element = element.get(0);\n",
       "    fig.cell_info = mpl.find_output_cell(\"<div id='\" + id + \"'></div>\");\n",
       "    if (!fig.cell_info) {\n",
       "        console.error(\"Failed to find cell for figure\", id, fig);\n",
       "        return;\n",
       "    }\n",
       "\n",
       "    var output_index = fig.cell_info[2]\n",
       "    var cell = fig.cell_info[0];\n",
       "\n",
       "};\n",
       "\n",
       "mpl.figure.prototype.handle_close = function(fig, msg) {\n",
       "    fig.root.unbind('remove')\n",
       "\n",
       "    // Update the output cell to use the data from the current canvas.\n",
       "    fig.push_to_output();\n",
       "    var dataURL = fig.canvas.toDataURL();\n",
       "    // Re-enable the keyboard manager in IPython - without this line, in FF,\n",
       "    // the notebook keyboard shortcuts fail.\n",
       "    IPython.keyboard_manager.enable()\n",
       "    $(fig.parent_element).html('<img src=\"' + dataURL + '\">');\n",
       "    fig.close_ws(fig, msg);\n",
       "}\n",
       "\n",
       "mpl.figure.prototype.close_ws = function(fig, msg){\n",
       "    fig.send_message('closing', msg);\n",
       "    // fig.ws.close()\n",
       "}\n",
       "\n",
       "mpl.figure.prototype.push_to_output = function(remove_interactive) {\n",
       "    // Turn the data on the canvas into data in the output cell.\n",
       "    var dataURL = this.canvas.toDataURL();\n",
       "    this.cell_info[1]['text/html'] = '<img src=\"' + dataURL + '\">';\n",
       "}\n",
       "\n",
       "mpl.figure.prototype.updated_canvas_event = function() {\n",
       "    // Tell IPython that the notebook contents must change.\n",
       "    IPython.notebook.set_dirty(true);\n",
       "    this.send_message(\"ack\", {});\n",
       "    var fig = this;\n",
       "    // Wait a second, then push the new image to the DOM so\n",
       "    // that it is saved nicely (might be nice to debounce this).\n",
       "    setTimeout(function () { fig.push_to_output() }, 1000);\n",
       "}\n",
       "\n",
       "mpl.figure.prototype._init_toolbar = function() {\n",
       "    var fig = this;\n",
       "\n",
       "    var nav_element = $('<div/>')\n",
       "    nav_element.attr('style', 'width: 100%');\n",
       "    this.root.append(nav_element);\n",
       "\n",
       "    // Define a callback function for later on.\n",
       "    function toolbar_event(event) {\n",
       "        return fig.toolbar_button_onclick(event['data']);\n",
       "    }\n",
       "    function toolbar_mouse_event(event) {\n",
       "        return fig.toolbar_button_onmouseover(event['data']);\n",
       "    }\n",
       "\n",
       "    for(var toolbar_ind in mpl.toolbar_items){\n",
       "        var name = mpl.toolbar_items[toolbar_ind][0];\n",
       "        var tooltip = mpl.toolbar_items[toolbar_ind][1];\n",
       "        var image = mpl.toolbar_items[toolbar_ind][2];\n",
       "        var method_name = mpl.toolbar_items[toolbar_ind][3];\n",
       "\n",
       "        if (!name) { continue; };\n",
       "\n",
       "        var button = $('<button class=\"btn btn-default\" href=\"#\" title=\"' + name + '\"><i class=\"fa ' + image + ' fa-lg\"></i></button>');\n",
       "        button.click(method_name, toolbar_event);\n",
       "        button.mouseover(tooltip, toolbar_mouse_event);\n",
       "        nav_element.append(button);\n",
       "    }\n",
       "\n",
       "    // Add the status bar.\n",
       "    var status_bar = $('<span class=\"mpl-message\" style=\"text-align:right; float: right;\"/>');\n",
       "    nav_element.append(status_bar);\n",
       "    this.message = status_bar[0];\n",
       "\n",
       "    // Add the close button to the window.\n",
       "    var buttongrp = $('<div class=\"btn-group inline pull-right\"></div>');\n",
       "    var button = $('<button class=\"btn btn-mini btn-primary\" href=\"#\" title=\"Stop Interaction\"><i class=\"fa fa-power-off icon-remove icon-large\"></i></button>');\n",
       "    button.click(function (evt) { fig.handle_close(fig, {}); } );\n",
       "    button.mouseover('Stop Interaction', toolbar_mouse_event);\n",
       "    buttongrp.append(button);\n",
       "    var titlebar = this.root.find($('.ui-dialog-titlebar'));\n",
       "    titlebar.prepend(buttongrp);\n",
       "}\n",
       "\n",
       "mpl.figure.prototype._root_extra_style = function(el){\n",
       "    var fig = this\n",
       "    el.on(\"remove\", function(){\n",
       "\tfig.close_ws(fig, {});\n",
       "    });\n",
       "}\n",
       "\n",
       "mpl.figure.prototype._canvas_extra_style = function(el){\n",
       "    // this is important to make the div 'focusable\n",
       "    el.attr('tabindex', 0)\n",
       "    // reach out to IPython and tell the keyboard manager to turn it's self\n",
       "    // off when our div gets focus\n",
       "\n",
       "    // location in version 3\n",
       "    if (IPython.notebook.keyboard_manager) {\n",
       "        IPython.notebook.keyboard_manager.register_events(el);\n",
       "    }\n",
       "    else {\n",
       "        // location in version 2\n",
       "        IPython.keyboard_manager.register_events(el);\n",
       "    }\n",
       "\n",
       "}\n",
       "\n",
       "mpl.figure.prototype._key_event_extra = function(event, name) {\n",
       "    var manager = IPython.notebook.keyboard_manager;\n",
       "    if (!manager)\n",
       "        manager = IPython.keyboard_manager;\n",
       "\n",
       "    // Check for shift+enter\n",
       "    if (event.shiftKey && event.which == 13) {\n",
       "        this.canvas_div.blur();\n",
       "        // select the cell after this one\n",
       "        var index = IPython.notebook.find_cell_index(this.cell_info[0]);\n",
       "        IPython.notebook.select(index + 1);\n",
       "    }\n",
       "}\n",
       "\n",
       "mpl.figure.prototype.handle_save = function(fig, msg) {\n",
       "    fig.ondownload(fig, null);\n",
       "}\n",
       "\n",
       "\n",
       "mpl.find_output_cell = function(html_output) {\n",
       "    // Return the cell and output element which can be found *uniquely* in the notebook.\n",
       "    // Note - this is a bit hacky, but it is done because the \"notebook_saving.Notebook\"\n",
       "    // IPython event is triggered only after the cells have been serialised, which for\n",
       "    // our purposes (turning an active figure into a static one), is too late.\n",
       "    var cells = IPython.notebook.get_cells();\n",
       "    var ncells = cells.length;\n",
       "    for (var i=0; i<ncells; i++) {\n",
       "        var cell = cells[i];\n",
       "        if (cell.cell_type === 'code'){\n",
       "            for (var j=0; j<cell.output_area.outputs.length; j++) {\n",
       "                var data = cell.output_area.outputs[j];\n",
       "                if (data.data) {\n",
       "                    // IPython >= 3 moved mimebundle to data attribute of output\n",
       "                    data = data.data;\n",
       "                }\n",
       "                if (data['text/html'] == html_output) {\n",
       "                    return [cell, data, j];\n",
       "                }\n",
       "            }\n",
       "        }\n",
       "    }\n",
       "}\n",
       "\n",
       "// Register the function which deals with the matplotlib target/channel.\n",
       "// The kernel may be null if the page has been refreshed.\n",
       "if (IPython.notebook.kernel != null) {\n",
       "    IPython.notebook.kernel.comm_manager.register_target('matplotlib', mpl.mpl_figure_comm);\n",
       "}\n"
      ],
      "text/plain": [
       "<IPython.core.display.Javascript object>"
      ]
     },
     "metadata": {},
     "output_type": "display_data"
    },
    {
     "data": {
      "text/html": [
       "<img src=\"data:image/png;base64,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\">"
      ],
      "text/plain": [
       "<IPython.core.display.HTML object>"
      ]
     },
     "metadata": {},
     "output_type": "display_data"
    }
   ],
   "source": [
    "import time\n",
    "%matplotlib nbagg\n",
    "import matplotlib.pyplot as plt\n",
    "idx = 0\n",
    "fig, ax = plt.subplots(1,1)\n",
    "for idx in range(0,1000):\n",
    "    counts, xedges, yedges, image = ax.hist2d(samples[idx,0,:],samples[idx,1,:], bins = 100)\n",
    "    fig.canvas.draw()\n",
    "    time.sleep(1)\n",
    "    plt.show(block=False)"
   ]
  },
  {
   "cell_type": "code",
   "execution_count": 45,
   "metadata": {
    "collapsed": false
   },
   "outputs": [
    {
     "data": {
      "text/plain": [
       "(1000, 2, 1000)"
      ]
     },
     "execution_count": 45,
     "metadata": {},
     "output_type": "execute_result"
    }
   ],
   "source": []
  },
  {
   "cell_type": "code",
   "execution_count": 44,
   "metadata": {
    "collapsed": false
   },
   "outputs": [
    {
     "data": {
      "image/png": "[encoded data removed]",
      "text/plain": [
       "<matplotlib.figure.Figure at 0x7f3af8264b90>"
      ]
     },
     "metadata": {},
     "output_type": "display_data"
    }
   ],
   "source": [
    "counts, xedges, yedges, image = plt.hist2d(samples[:,0,:].flatten(),samples[:,1,:].flatten(), bins = 500)"
   ]
  },
  {
   "cell_type": "code",
   "execution_count": 29,
   "metadata": {
    "collapsed": false,
    "scrolled": true
   },
   "outputs": [
    {
     "data": {
      "image/png": "[encoded data removed]",
      "text/plain": [
       "<matplotlib.figure.Figure at 0x7f3b1021b610>"
      ]
     },
     "metadata": {},
     "output_type": "display_data"
    }
   ],
   "source": [
    "plt.figure(figsize=(8, 8))\n",
    "plt.scatter(samples[:,0,:],samples[:,1,:],s=out_sigma_test[:,1]*100, c=np.random.rand(2500,3), alpha=0.3)\n",
    "plt.show()"
   ]
  },
  {
   "cell_type": "code",
   "execution_count": 30,
   "metadata": {
    "collapsed": false,
    "scrolled": true
   },
   "outputs": [
    {
     "ename": "AttributeError",
     "evalue": "'module' object has no attribute 'generate_mixture_samples'",
     "output_type": "error",
     "traceback": [
      "\u001b[0;31m---------------------------------------------------------------------------\u001b[0m",
      "\u001b[0;31mAttributeError\u001b[0m                            Traceback (most recent call last)",
      "\u001b[0;32m<ipython-input-30-3b2bee1bae07>\u001b[0m in \u001b[0;36m<module>\u001b[0;34m()\u001b[0m\n\u001b[1;32m      1\u001b[0m \u001b[0;34m\u001b[0m\u001b[0m\n\u001b[1;32m      2\u001b[0m \u001b[0;34m\u001b[0m\u001b[0m\n\u001b[0;32m----> 3\u001b[0;31m \u001b[0my_test\u001b[0m \u001b[0;34m=\u001b[0m \u001b[0mmixture\u001b[0m\u001b[0;34m.\u001b[0m\u001b[0mgenerate_mixture_samples\u001b[0m\u001b[0;34m(\u001b[0m\u001b[0mout_pi_test\u001b[0m\u001b[0;34m,\u001b[0m \u001b[0mout_mu_test\u001b[0m\u001b[0;34m,\u001b[0m \u001b[0mout_sigma_test\u001b[0m\u001b[0;34m,\u001b[0m\u001b[0;36m100\u001b[0m\u001b[0;34m)\u001b[0m\u001b[0;34m\u001b[0m\u001b[0m\n\u001b[0m\u001b[1;32m      4\u001b[0m \u001b[0;34m\u001b[0m\u001b[0m\n\u001b[1;32m      5\u001b[0m \u001b[0mplt\u001b[0m\u001b[0;34m.\u001b[0m\u001b[0mfigure\u001b[0m\u001b[0;34m(\u001b[0m\u001b[0mfigsize\u001b[0m\u001b[0;34m=\u001b[0m\u001b[0;34m(\u001b[0m\u001b[0;36m8\u001b[0m\u001b[0;34m,\u001b[0m \u001b[0;36m8\u001b[0m\u001b[0;34m)\u001b[0m\u001b[0;34m)\u001b[0m\u001b[0;34m\u001b[0m\u001b[0m\n",
      "\u001b[0;31mAttributeError\u001b[0m: 'module' object has no attribute 'generate_mixture_samples'"
     ]
    }
   ],
   "source": [
    "\n",
    "\n",
    "y_test = mixture.generate_mixture_samples(out_pi_test, out_mu_test, out_sigma_test,100)\n",
    "\n",
    "plt.figure(figsize=(8, 8))\n",
    "plt.plot(x_data,y_data,'ro', x_test,y_test,'bo',alpha=0.3)\n",
    "plt.show()"
   ]
  },
  {
   "cell_type": "code",
   "execution_count": null,
   "metadata": {
    "collapsed": true
   },
   "outputs": [],
   "source": []
  },
  {
   "cell_type": "code",
   "execution_count": null,
   "metadata": {
    "collapsed": true
   },
   "outputs": [],
   "source": []
  }
 ],
 "metadata": {
  "kernelspec": {
   "display_name": "Python 2",
   "language": "python",
   "name": "python2"
  },
  "language_info": {
   "codemirror_mode": {
    "name": "ipython",
    "version": 2
   },
   "file_extension": ".py",
   "mimetype": "text/x-python",
   "name": "python",
   "nbconvert_exporter": "python",
   "pygments_lexer": "ipython2",
   "version": "2.7.6"
  }
 },
 "nbformat": 4,
 "nbformat_minor": 1
}
