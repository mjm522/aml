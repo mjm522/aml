{
 "cells": [
  {
   "cell_type": "code",
   "execution_count": 1,
   "metadata": {},
   "outputs": [],
   "source": [
    "import os\n",
    "import copy\n",
    "import random\n",
    "import numpy as np\n",
    "import tensorflow as tf\n",
    "import matplotlib.pyplot as plt\n",
    "from aml_io.convert_tools import cart2pol\n",
    "from aml_dl.mdn.model.tf_mdn_model import MixtureDensityNetwork"
   ]
  },
  {
   "cell_type": "code",
   "execution_count": 2,
   "metadata": {
    "collapsed": true
   },
   "outputs": [],
   "source": [
    "def fun_h(t, noise_gain=0.):\n",
    "    if len(t.shape) > 1:\n",
    "        noise = noise_gain*np.random.randn(t.shape[0],t.shape[1])\n",
    "    else:\n",
    "        noise = noise_gain*np.random.randn(t.shape[0])\n",
    "    return np.cos(2*t - 1/2)/2 + np.cos(t) + 2 + noise\n",
    "\n",
    "def fun_g(r, noise_gain=0.):\n",
    "    if len(t.shape) > 1:\n",
    "        noise = noise_gain*np.random.randn(t.shape[0],t.shape[1])\n",
    "    else:\n",
    "        noise = noise_gain*np.random.randn(t.shape[0])\n",
    "    noise = noise_gain*np.random.randn(d1, d2)\n",
    "    return np.divide(np.power(np.multiply((np.sin(r) - np.sin(2*r)/2 + np.sin(3*r)/3. - \n",
    "                                           np.sin(4*r)/4. + 4),r),2),(r+1)) + noise\n",
    "\n",
    "def sawtoothxy(x,y):\n",
    "    t, r = cart2pol(x,y) # change to polar coordinates\n",
    "    h = fun_h(t)\n",
    "    g = fun_g(r)\n",
    "    f = np.multiply(g,h)\n",
    "    return f"
   ]
  },
  {
   "cell_type": "code",
   "execution_count": 3,
   "metadata": {
    "collapsed": true
   },
   "outputs": [],
   "source": [
    "def create_data_points(data, noise=0.01):\n",
    "    pass\n",
    "    "
   ]
  },
  {
   "cell_type": "code",
   "execution_count": 4,
   "metadata": {
    "collapsed": true
   },
   "outputs": [],
   "source": [
    "num_data_points = 2500\n",
    "x_values = np.linspace(0, 6, num_data_points)\n",
    "y_values = fun_h(x_values, 0.1)"
   ]
  },
  {
   "cell_type": "code",
   "execution_count": 5,
   "metadata": {},
   "outputs": [
    {
     "data": {
      "image/png": "[encoded data removed]",
      "text/plain": [
       "<matplotlib.figure.Figure at 0x7fdfefc57050>"
      ]
     },
     "metadata": {},
     "output_type": "display_data"
    }
   ],
   "source": [
    "plt.figure()\n",
    "plt.plot(y_values)\n",
    "plt.show()"
   ]
  },
  {
   "cell_type": "markdown",
   "metadata": {},
   "source": [
    "MDN"
   ]
  },
  {
   "cell_type": "code",
   "execution_count": 6,
   "metadata": {},
   "outputs": [],
   "source": [
    "#hyperparams\n",
    "EXP_NAME = 'exp_ensemble'\n",
    "\n",
    "check_point_dir   = os.environ['AML_DATA'] + '/aml_dl/mdn/tf_check_points/exp_ensemble/'\n",
    "summary_dir = os.environ['AML_DATA'] + '/aml_dl/mdn/summaries/exp_ensemble/'\n",
    "\n",
    "if not os.path.exists(check_point_dir):\n",
    "    os.makedirs(check_point_dir)\n",
    "\n",
    "if not os.path.exists(summary_dir):\n",
    "    os.makedirs(summary_dir)\n",
    "\n",
    "adam_params = {\n",
    "    'type': 'adam',\n",
    "    'params': {'learning_rate' : 0.0001, 'beta1': 0.9, 'beta2': 0.999, 'epsilon': 1e-08, 'use_locking': False}\n",
    "}\n",
    "\n",
    "network_params = {\n",
    "    'dim_input': 1, \n",
    "    'dim_output': 1,\n",
    "    'n_hidden': 48,\n",
    "    'k_mixtures': 20,\n",
    "    'write_summary': False,\n",
    "    'load_saved_model': False,\n",
    "    'model_dir': check_point_dir + '/inv/',\n",
    "    'model_name':'ensemble_model_inv_10_kernels.ckpt',\n",
    "    'optimiser': adam_params,\n",
    "    'summary_dir':summary_dir+'/inv/',\n",
    "    'device': '/cpu:0',\n",
    "}\n",
    "\n",
    "EPOCHS = 10000"
   ]
  },
  {
   "cell_type": "code",
   "execution_count": 7,
   "metadata": {
    "collapsed": true
   },
   "outputs": [],
   "source": [
    "#training data\n",
    "x_train = x_values[:,None]\n",
    "y_train = y_values[:,None]\n",
    "\n",
    "tf_sumry_wrtr = None"
   ]
  },
  {
   "cell_type": "code",
   "execution_count": 8,
   "metadata": {},
   "outputs": [],
   "source": [
    "#computational graph\n",
    "mdn = MixtureDensityNetwork(network_params, tf_sumry_wrtr = tf_sumry_wrtr)\n",
    "mdn._init_model()"
   ]
  },
  {
   "cell_type": "code",
   "execution_count": 9,
   "metadata": {},
   "outputs": [
    {
     "data": {
      "image/png": "[encoded data removed]",
      "text/plain": [
       "<matplotlib.figure.Figure at 0x7fdff6a74e90>"
      ]
     },
     "metadata": {},
     "output_type": "display_data"
    }
   ],
   "source": [
    "#training session\n",
    "sess = tf.InteractiveSession()\n",
    "sess.run(tf.global_variables_initializer())\n",
    "\n",
    "with tf.device(network_params['device']):\n",
    "    # Keeping track of loss progress as we train\n",
    "    loss = np.zeros(EPOCHS) \n",
    "\n",
    "    train_op = mdn._ops['train']\n",
    "    loss_op  = mdn._ops['loss']\n",
    "    \n",
    "    for i in range(EPOCHS):\n",
    "        sess.run(train_op,feed_dict={mdn._ops['x']: x_train, mdn._ops['y']: y_train})\n",
    "        _, loss[i] = sess.run([train_op, loss_op], feed_dict={mdn._ops['x']: x_train, mdn._ops['y']: y_train})\n",
    "\n",
    "plt.figure(figsize=(8, 8))\n",
    "plt.plot(np.arange(100, EPOCHS,1), loss[100:], 'r-')\n",
    "plt.show()"
   ]
  },
  {
   "cell_type": "code",
   "execution_count": 10,
   "metadata": {},
   "outputs": [],
   "source": [
    "#testing session\n",
    "x_test = np.float32(np.arange(4,9,0.1))\n",
    "y_test = fun_h(x_test, 0.0)\n",
    "\n",
    "mu_out    = mdn.run_op(sess=sess, op='mu',    xs=x_test[:,None])\n",
    "sigma_out = mdn.run_op(sess=sess, op='sigma', xs=x_test[:,None])\n",
    "pi_out    = mdn.run_op(sess=sess, op='pi',    xs=x_test[:,None])\n",
    "\n",
    "max_ids   = np.argmax(pi_out[0], axis=1)\n",
    "\n",
    "pred_mu = []\n",
    "for i in range(len(max_ids)):\n",
    "    pred_mu.append(mu_out[0][i, :, max_ids[i]])\n",
    "\n",
    "pred_sigma = []\n",
    "for i in range(len(max_ids)):\n",
    "    pred_sigma.append(sigma_out[0][i, max_ids[i]])"
   ]
  },
  {
   "cell_type": "code",
   "execution_count": 11,
   "metadata": {},
   "outputs": [
    {
     "data": {
      "image/png": "[encoded data removed]",
      "text/plain": [
       "<matplotlib.figure.Figure at 0x7fdfeb5a6550>"
      ]
     },
     "metadata": {},
     "output_type": "display_data"
    }
   ],
   "source": [
    "#plot results\n",
    "stddev = 20.\n",
    "\n",
    "fig=plt.figure()\n",
    "ax = fig.add_subplot(111)\n",
    "ax.plot(x_test, y_test, color='r')\n",
    "\n",
    "ypl = [float(mu-stddev*sig) for mu,sig in zip(pred_mu,pred_sigma)]\n",
    "yph = [float(mu+stddev*sig) for mu,sig in zip(pred_mu,pred_sigma)]\n",
    "\n",
    "ax.fill_between(x_test.tolist(), ypl, yph, facecolor='grey', interpolate=True, alpha=0.9)\n",
    "ax.plot(x_test, pred_mu, color='g') \n",
    "\n",
    "plt.show()"
   ]
  },
  {
   "cell_type": "markdown",
   "metadata": {},
   "source": [
    "ENSEMBLES"
   ]
  },
  {
   "cell_type": "code",
   "execution_count": 12,
   "metadata": {
    "collapsed": true
   },
   "outputs": [],
   "source": [
    "def add_adversarial_examples(data, loss_grad, epsilon=0.0001, no_examples=50):\n",
    "    \n",
    "    rand_indices = [random.randint(0,len(data)-1) for _ in range(no_examples)]\n",
    "\n",
    "    for index in rand_indices:\n",
    "        data[index,:] += epsilon*np.sign(np.argmax(loss_grad[index], axis=1))\n",
    "\n",
    "    return data\n",
    "    "
   ]
  },
  {
   "cell_type": "code",
   "execution_count": 13,
   "metadata": {
    "collapsed": true
   },
   "outputs": [],
   "source": [
    "#hyperparams\n",
    "NO_ENSEMBLES = 5"
   ]
  },
  {
   "cell_type": "code",
   "execution_count": 14,
   "metadata": {},
   "outputs": [],
   "source": [
    "#create ensembles\n",
    "mdn_ensembles = [MixtureDensityNetwork(network_params, tf_sumry_wrtr = tf_sumry_wrtr) for _ in range(NO_ENSEMBLES)]\n",
    "for k in range(NO_ENSEMBLES):\n",
    "    mdn_ensembles[k]._init_model()"
   ]
  },
  {
   "cell_type": "code",
   "execution_count": 15,
   "metadata": {},
   "outputs": [],
   "source": [
    "#training session\n",
    "sess = tf.InteractiveSession()\n",
    "sess.run(tf.global_variables_initializer())\n",
    "\n",
    "with tf.device(network_params['device']):\n",
    "    # Keeping track of loss progress as we train\n",
    "    loss = np.zeros([NO_ENSEMBLES, EPOCHS])\n",
    "    \n",
    "    for i in range(EPOCHS):\n",
    "        #train them parrallely\n",
    "        for k in range(NO_ENSEMBLES):\n",
    "            train_op = mdn_ensembles[k]._ops['train']\n",
    "            loss_op  = mdn_ensembles[k]._ops['loss']\n",
    "            grad_op  = mdn_ensembles[k]._ops['loss_grad']\n",
    "            \n",
    "            #compute value of the gradients\n",
    "            loss_grad = sess.run(grad_op,feed_dict={mdn_ensembles[k]._ops['x']: x_train, mdn_ensembles[k]._ops['y']: y_train})\n",
    "            \n",
    "            #get adversarial examples\n",
    "            x_train = add_adversarial_examples(data=x_train, loss_grad=loss_grad)\n",
    "            \n",
    "            sess.run(train_op,feed_dict={mdn_ensembles[k]._ops['x']: x_train, mdn_ensembles[k]._ops['y']: y_train})\n",
    "            _, loss[k,i] = sess.run([train_op, loss_op], feed_dict={mdn_ensembles[k]._ops['x']: x_train, mdn_ensembles[k]._ops['y']: y_train})"
   ]
  },
  {
   "cell_type": "code",
   "execution_count": 16,
   "metadata": {},
   "outputs": [
    {
     "data": {
      "image/png": "[encoded data removed]",
      "text/plain": [
       "<matplotlib.figure.Figure at 0x7fdf79490390>"
      ]
     },
     "metadata": {},
     "output_type": "display_data"
    }
   ],
   "source": [
    "#plot loss curves\n",
    "plt.figure()\n",
    "plot_no=NO_ENSEMBLES*100+11\n",
    "for k in range(NO_ENSEMBLES):\n",
    "    plt.subplot(plot_no)\n",
    "    plt.plot(np.arange(100, EPOCHS,1), loss[k, 100:], 'r-')\n",
    "    plot_no += 1\n",
    "plt.show()"
   ]
  },
  {
   "cell_type": "code",
   "execution_count": 17,
   "metadata": {},
   "outputs": [],
   "source": [
    "#testing\n",
    "\n",
    "mu_out_ensembles    = [mdn_ensembles[k].run_op(sess=sess, op='mu',    xs=x_test[:,None]) for k in range(NO_ENSEMBLES)]\n",
    "sigma_out_ensembles = [mdn_ensembles[k].run_op(sess=sess, op='sigma', xs=x_test[:,None]) for k in range(NO_ENSEMBLES)]\n",
    "pi_out_ensembles    = [mdn_ensembles[k].run_op(sess=sess, op='pi',    xs=x_test[:,None]) for k in range(NO_ENSEMBLES)]\n",
    "\n",
    "max_ids_ensembles = [np.argmax(pi_out_ensembles[k][0], axis=1) for k in range(NO_ENSEMBLES)]\n",
    "\n",
    "pred_mu_ensembles = []\n",
    "pred_sigma_ensembles = []\n",
    "\n",
    "for k in range(NO_ENSEMBLES):\n",
    "    max_ids = max_ids_ensembles[k]\n",
    "    pred_mu = []\n",
    "    for i in range(len(max_ids)):\n",
    "        pred_mu.append(mu_out[0][i, :, max_ids[i]])\n",
    "\n",
    "    pred_sigma = []\n",
    "    for i in range(len(max_ids)):\n",
    "        pred_sigma.append(sigma_out[0][i, max_ids[i]])\n",
    "    \n",
    "    pred_mu_ensembles.append(copy.deepcopy(pred_mu))\n",
    "    pred_sigma_ensembles.append(copy.deepcopy(pred_sigma))"
   ]
  },
  {
   "cell_type": "code",
   "execution_count": 18,
   "metadata": {},
   "outputs": [
    {
     "data": {
      "image/png": "[encoded data removed]",
      "text/plain": [
       "<matplotlib.figure.Figure at 0x7fdf781830d0>"
      ]
     },
     "metadata": {},
     "output_type": "display_data"
    }
   ],
   "source": [
    "#plot results, [here the results are not combined, but rather checked]\n",
    "stddev = 20.\n",
    "\n",
    "fig=plt.figure()\n",
    "plot_no=NO_ENSEMBLES*100+11\n",
    "\n",
    "for k in range(NO_ENSEMBLES):\n",
    "    pred_mu = pred_mu_ensembles[k]\n",
    "    pred_sigma = pred_sigma_ensembles[k]\n",
    "    ax = fig.add_subplot(plot_no)\n",
    "    ax.plot(x_test, y_test, color='r')\n",
    "    \n",
    "    ypl = [float(mu-stddev*sig) for mu,sig in zip(pred_mu,pred_sigma)]\n",
    "    yph = [float(mu+stddev*sig) for mu,sig in zip(pred_mu,pred_sigma)]\n",
    "\n",
    "    ax.fill_between(x_test.tolist(), ypl, yph, facecolor='grey', interpolate=True, alpha=0.9)\n",
    "    ax.plot(x_test, pred_mu, color='g')\n",
    "    \n",
    "    plot_no += 1\n",
    "\n",
    "plt.show()"
   ]
  },
  {
   "cell_type": "code",
   "execution_count": null,
   "metadata": {
    "collapsed": true
   },
   "outputs": [],
   "source": []
  }
 ],
 "metadata": {
  "kernelspec": {
   "display_name": "Python 2",
   "language": "python",
   "name": "python2"
  },
  "language_info": {
   "codemirror_mode": {
    "name": "ipython",
    "version": 2
   },
   "file_extension": ".py",
   "mimetype": "text/x-python",
   "name": "python",
   "nbconvert_exporter": "python",
   "pygments_lexer": "ipython2",
   "version": "2.7.6"
  }
 },
 "nbformat": 4,
 "nbformat_minor": 2
}
