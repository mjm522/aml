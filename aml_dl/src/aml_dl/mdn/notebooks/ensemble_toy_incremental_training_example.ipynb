{
 "cells": [
  {
   "cell_type": "markdown",
   "metadata": {
    "collapsed": true
   },
   "source": [
    "### Deep Ensamble MDN Toy Example ###"
   ]
  },
  {
   "cell_type": "code",
   "execution_count": 1,
   "metadata": {
    "collapsed": true
   },
   "outputs": [],
   "source": [
    "%load_ext autoreload"
   ]
  },
  {
   "cell_type": "code",
   "execution_count": 2,
   "metadata": {
    "collapsed": true
   },
   "outputs": [],
   "source": [
    "%autoreload 2"
   ]
  },
  {
   "cell_type": "code",
   "execution_count": 3,
   "metadata": {},
   "outputs": [
    {
     "name": "stderr",
     "output_type": "stream",
     "text": [
      "/Users/ermanoarruda/virtualenvs/robotics/lib/python2.7/site-packages/matplotlib/font_manager.py:273: UserWarning: Matplotlib is building the font cache using fc-list. This may take a moment.\n",
      "  warnings.warn('Matplotlib is building the font cache using fc-list. This may take a moment.')\n"
     ]
    }
   ],
   "source": [
    "%matplotlib inline"
   ]
  },
  {
   "cell_type": "code",
   "execution_count": 4,
   "metadata": {
    "collapsed": true
   },
   "outputs": [],
   "source": [
    "import os\n",
    "import copy\n",
    "import random\n",
    "import numpy as np\n",
    "import tensorflow as tf\n",
    "import matplotlib.pyplot as plt\n",
    "from aml_dl.mdn.model.tf_ensemble_mdn_model import EnsambleMDN\n",
    "\n",
    "from IPython import display\n",
    "import time"
   ]
  },
  {
   "cell_type": "markdown",
   "metadata": {},
   "source": [
    "## Configs"
   ]
  },
  {
   "cell_type": "code",
   "execution_count": 5,
   "metadata": {
    "collapsed": true
   },
   "outputs": [],
   "source": [
    "EXP_NAME = 'exp_ensemble'\n",
    "\n",
    "check_point_dir   = os.environ['AML_DATA'] + '/aml_dl/mdn/tf_check_points/exp_ensemble/'\n",
    "summary_dir = os.environ['AML_DATA'] + '/aml_dl/mdn/summaries/exp_ensemble/'\n",
    "\n",
    "if not os.path.exists(check_point_dir):\n",
    "    os.makedirs(check_point_dir)\n",
    "\n",
    "if not os.path.exists(summary_dir):\n",
    "    os.makedirs(summary_dir)\n",
    "\n",
    "adam_params = {\n",
    "    'type': 'adam',\n",
    "    'params': {'learning_rate' : 0.01, 'beta1': 0.9, 'beta2': 0.999, 'epsilon': 1e-08, 'use_locking': False}\n",
    "}\n",
    "\n",
    "network_params = {\n",
    "    'n_ensembles': 5,\n",
    "    'dim_input': 1, \n",
    "    'dim_output': 1,\n",
    "    'n_hidden': [30,10],\n",
    "    'k_mixtures': 1,\n",
    "    'write_summary': False,\n",
    "    'load_saved_model': False,\n",
    "    'model_dir': check_point_dir + '/inv/',\n",
    "    'model_name':'ensemble_model_inv_10_kernels.ckpt',\n",
    "    'optimiser': adam_params,\n",
    "    'summary_dir':summary_dir+'/inv/',\n",
    "    'device': '/cpu:0',\n",
    "}"
   ]
  },
  {
   "cell_type": "code",
   "execution_count": 6,
   "metadata": {
    "collapsed": true
   },
   "outputs": [],
   "source": [
    "ensamble_mdn = EnsambleMDN(network_params)"
   ]
  },
  {
   "cell_type": "code",
   "execution_count": 7,
   "metadata": {
    "collapsed": true
   },
   "outputs": [],
   "source": [
    "ensamble_mdn._init_model()"
   ]
  },
  {
   "cell_type": "markdown",
   "metadata": {
    "collapsed": true
   },
   "source": [
    "## Prepare data"
   ]
  },
  {
   "cell_type": "code",
   "execution_count": 8,
   "metadata": {
    "collapsed": true
   },
   "outputs": [],
   "source": [
    "def fun_h(t, noise_gain=0.):\n",
    "    if len(t.shape) > 1:\n",
    "        noise = noise_gain*np.random.randn(t.shape[0],t.shape[1])\n",
    "    else:\n",
    "        noise = noise_gain*np.random.randn(t.shape[0])\n",
    "    return np.cos(2*t - 1/2)/2 + np.cos(t) + 1 + noise\n",
    "\n",
    "def fun_poly(t, noise_gain=0.):\n",
    "    if len(t.shape) > 1:\n",
    "        noise = noise_gain*np.random.randn(t.shape[0],t.shape[1])\n",
    "    else:\n",
    "        noise = noise_gain*np.random.randn(t.shape[0])\n",
    "    return -0.001*(t ** 3) + np.square(t)*0.01\n",
    "\n",
    "def func_c(t, noise_gain=0.0):\n",
    "    if len(t.shape) > 1:\n",
    "        noise = noise_gain*np.random.randn(t.shape[0],t.shape[1])\n",
    "    else:\n",
    "        noise = noise_gain*np.random.randn(t.shape[0])\n",
    "        \n",
    "    return t * np.cos(t) + noise\n",
    "\n",
    "def fun_g(r, noise_gain=0.):\n",
    "    if len(t.shape) > 1:\n",
    "        noise = noise_gain*np.random.randn(t.shape[0],t.shape[1])\n",
    "    else:\n",
    "        noise = noise_gain*np.random.randn(t.shape[0])\n",
    "    noise = noise_gain*np.random.randn(d1, d2)\n",
    "    return np.divide(np.power(np.multiply((np.sin(r) - np.sin(2*r)/2 + np.sin(3*r)/3. - \n",
    "                                           np.sin(4*r)/4. + 4),r),2),(r+1)) + noise\n",
    "\n",
    "def sawtoothxy(x,y):\n",
    "    t, r = cart2pol(x,y) # change to polar coordinates\n",
    "    h = fun_h(t)\n",
    "    g = fun_g(r)\n",
    "    f = np.multiply(g,h)\n",
    "    return f\n",
    "\n",
    "func_y = func_c"
   ]
  },
  {
   "cell_type": "code",
   "execution_count": 9,
   "metadata": {},
   "outputs": [],
   "source": [
    "num_data_points = 50\n",
    "x_values = np.linspace(0, 12, num_data_points)\n",
    "y_values = func_y(x_values, 0.0)"
   ]
  },
  {
   "cell_type": "code",
   "execution_count": 10,
   "metadata": {
    "collapsed": true
   },
   "outputs": [],
   "source": [
    "num_data_points = 1000\n",
    "gdx_values = np.linspace(0, 12, num_data_points)\n",
    "gdy_values = func_y(gdx_values, 0.0)"
   ]
  },
  {
   "cell_type": "code",
   "execution_count": 11,
   "metadata": {},
   "outputs": [],
   "source": [
    "\n",
    "\n",
    "def test_and_plot(i):\n",
    "    \n",
    "    x_test = gdx_values#np.linspace(0, 12, num_data_points)\n",
    "    y_test = gdy_values #fun_h(x_test, 0.0)\n",
    "    \n",
    "    out_mus = ensamble_mdn.run_op(sess, 'mus', np.expand_dims(x_test,axis=1))\n",
    "    out_sigma = ensamble_mdn.run_op(sess, 'sigmas', np.expand_dims(x_test,axis=1))\n",
    "    out_pis = ensamble_mdn.run_op(sess, 'pis', np.expand_dims(x_test,axis=1))\n",
    "    \n",
    "    mean_out, var_out = ensamble_mdn.forward(sess, np.expand_dims(x_test,axis=1))\n",
    "    \n",
    "    stddev = 3.0\n",
    "\n",
    "    fig2 = plt.figure(figsize=(10,10))\n",
    "    ax = fig2.add_subplot(111)\n",
    "\n",
    "    ypl = [float(mu-stddev*np.sqrt(sig)) for mu,sig in zip(mean_out,var_out)]\n",
    "    yph = [float(mu+stddev*np.sqrt(sig)) for mu,sig in zip(mean_out,var_out)]\n",
    "\n",
    "    ax.plot(x_test, y_test, color='r')\n",
    "\n",
    "    ax.fill_between(x_test.tolist(), ypl, yph, facecolor='grey', interpolate=True, alpha=0.9)\n",
    "    ax.plot(x_test, mean_out, color='b', linewidth=2.5)\n",
    "\n",
    "    colours = ['g','c','k','m','y']\n",
    "\n",
    "    for k in range(network_params['n_ensembles']):\n",
    "        ax.plot(x_test, np.reshape(out_mus[k],(-1,)), color=colours[k],linewidth=0.5)\n",
    "\n",
    "    ax.scatter(x_train,y_train)\n",
    "\n",
    "    x_test = gdx_values#np.linspace(0, 12, num_data_points)\n",
    "    y_test = gdy_values #fun_h(x_test, 0.0)\n",
    "#     plt.show()\n",
    "    \n",
    "    plt.title('Iteration %d'%(i,))\n",
    "    \n",
    "    display.display(plt.gcf())\n",
    "    display.clear_output(wait=True)\n",
    "    time.sleep(0.01)\n",
    "    \n",
    "    return fig2\n",
    "    "
   ]
  },
  {
   "cell_type": "code",
   "execution_count": 12,
   "metadata": {},
   "outputs": [],
   "source": [
    "x_train = x_values[15:20,None] #np.vstack([x_values[:5,None],x_values[15:20,None]])\n",
    "y_train = y_values[15:20,None] #np.vstack([y_values[:5,None],y_values[15:20,None]])"
   ]
  },
  {
   "cell_type": "code",
   "execution_count": 13,
   "metadata": {
    "scrolled": true
   },
   "outputs": [
    {
     "data": {
      "image/png": "[encoded data removed]",
      "text/plain": [
       "<matplotlib.figure.Figure at 0x137fc2d10>"
      ]
     },
     "metadata": {},
     "output_type": "display_data"
    }
   ],
   "source": [
    "plt.figure()\n",
    "plt.scatter(x_train,y_train)\n",
    "plt.plot(gdx_values,gdy_values)\n",
    "plt.show()"
   ]
  },
  {
   "cell_type": "code",
   "execution_count": 14,
   "metadata": {
    "collapsed": true
   },
   "outputs": [],
   "source": [
    "tf.set_random_seed(42)\n",
    "sess = tf.InteractiveSession()"
   ]
  },
  {
   "cell_type": "code",
   "execution_count": null,
   "metadata": {
    "collapsed": true
   },
   "outputs": [],
   "source": [
    "iterations = 1000"
   ]
  },
  {
   "cell_type": "code",
   "execution_count": null,
   "metadata": {
    "scrolled": false
   },
   "outputs": [
    {
     "data": {
      "image/png": "[encoded data removed]",
      "text/plain": [
       "<matplotlib.figure.Figure at 0x139609f90>"
      ]
     },
     "metadata": {},
     "output_type": "display_data"
    }
   ],
   "source": [
    "for i in range(100):\n",
    "    loss = ensamble_mdn.train(x_train, y_train, sess, iterations)\n",
    "    test_and_plot(i)\n",
    "#     ax = fig2.add_subplot(212)\n",
    "#     ax.plot(np.arange(100, iterations,1), loss[0, 100:], 'r-')"
   ]
  },
  {
   "cell_type": "code",
   "execution_count": null,
   "metadata": {
    "collapsed": true
   },
   "outputs": [],
   "source": []
  },
  {
   "cell_type": "code",
   "execution_count": null,
   "metadata": {
    "collapsed": true,
    "scrolled": true
   },
   "outputs": [],
   "source": [
    "#plot loss curves\n",
    "plt.figure(figsize=(15,15))\n",
    "plot_no=network_params['n_ensembles']*100+11\n",
    "for k in range(network_params['n_ensembles']):\n",
    "    plt.subplot(plot_no)\n",
    "    plt.plot(np.arange(100, iterations,1), loss[k, 100:], 'r-')\n",
    "    plot_no += 1\n",
    "plt.show()"
   ]
  },
  {
   "cell_type": "markdown",
   "metadata": {},
   "source": [
    "## Test"
   ]
  },
  {
   "cell_type": "code",
   "execution_count": null,
   "metadata": {
    "collapsed": true
   },
   "outputs": [],
   "source": [
    "x_test = gdx_values#np.linspace(0, 12, num_data_points)\n",
    "y_test = gdy_values #fun_h(x_test, 0.0)"
   ]
  },
  {
   "cell_type": "code",
   "execution_count": null,
   "metadata": {
    "collapsed": true
   },
   "outputs": [],
   "source": [
    "out_mus = ensamble_mdn.run_op(sess, 'mus', np.expand_dims(x_test,axis=1))\n",
    "out_sigma = ensamble_mdn.run_op(sess, 'sigmas', np.expand_dims(x_test,axis=1))\n",
    "out_pis = ensamble_mdn.run_op(sess, 'pis', np.expand_dims(x_test,axis=1))"
   ]
  },
  {
   "cell_type": "code",
   "execution_count": null,
   "metadata": {
    "collapsed": true
   },
   "outputs": [],
   "source": []
  },
  {
   "cell_type": "code",
   "execution_count": null,
   "metadata": {
    "collapsed": true
   },
   "outputs": [],
   "source": [
    "# out_mus = np.reshape(out_mus,(-1,1))\n",
    "# out_sigma = np.reshape(out_sigma,(-1,1))\n",
    "# out_pis = np.reshape(out_pis,(-1,1))"
   ]
  },
  {
   "cell_type": "code",
   "execution_count": null,
   "metadata": {
    "collapsed": true
   },
   "outputs": [],
   "source": [
    "# print np.reshape(out_mus[0],(-1,1))\n",
    "# print out_sigma.shape\n",
    "# print out_pis.shape"
   ]
  },
  {
   "cell_type": "code",
   "execution_count": null,
   "metadata": {
    "collapsed": true
   },
   "outputs": [],
   "source": [
    "y_test.shape"
   ]
  },
  {
   "cell_type": "code",
   "execution_count": null,
   "metadata": {
    "collapsed": true,
    "scrolled": true
   },
   "outputs": [],
   "source": [
    "mean_out, var_out = ensamble_mdn.forward(sess, np.expand_dims(x_test,axis=1))"
   ]
  },
  {
   "cell_type": "code",
   "execution_count": null,
   "metadata": {
    "collapsed": true,
    "scrolled": true
   },
   "outputs": [],
   "source": [
    "stddev = 3.0\n",
    "\n",
    "fig2 = plt.figure(figsize=(10,10))\n",
    "ax = fig2.add_subplot(111)\n",
    "\n",
    "ypl = [float(mu-stddev*np.sqrt(sig)) for mu,sig in zip(mean_out,var_out)]\n",
    "yph = [float(mu+stddev*np.sqrt(sig)) for mu,sig in zip(mean_out,var_out)]\n",
    "\n",
    "ax.plot(x_test, y_test, color='r')\n",
    "\n",
    "ax.fill_between(x_test.tolist(), ypl, yph, facecolor='grey', interpolate=True, alpha=0.9)\n",
    "ax.plot(x_test, mean_out, color='b', linewidth=2.5)\n",
    "\n",
    "colours = ['g','c','k','m','y']\n",
    "\n",
    "for k in range(network_params['n_ensembles']):\n",
    "    ax.plot(x_test, np.reshape(out_mus[k],(-1,)), color=colours[k],linewidth=0.5)\n",
    "\n",
    "plt.scatter(x_train,y_values)\n",
    "\n",
    "\n",
    "plt.show()"
   ]
  },
  {
   "cell_type": "code",
   "execution_count": null,
   "metadata": {
    "collapsed": true
   },
   "outputs": [],
   "source": []
  },
  {
   "cell_type": "code",
   "execution_count": null,
   "metadata": {
    "collapsed": true
   },
   "outputs": [],
   "source": []
  }
 ],
 "metadata": {
  "kernelspec": {
   "display_name": "Python 2",
   "language": "python",
   "name": "python2"
  },
  "language_info": {
   "codemirror_mode": {
    "name": "ipython",
    "version": 2
   },
   "file_extension": ".py",
   "mimetype": "text/x-python",
   "name": "python",
   "nbconvert_exporter": "python",
   "pygments_lexer": "ipython2",
   "version": "2.7.10"
  }
 },
 "nbformat": 4,
 "nbformat_minor": 1
}
